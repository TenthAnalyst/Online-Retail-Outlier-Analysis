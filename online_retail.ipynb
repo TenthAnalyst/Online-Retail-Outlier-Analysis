{
 "cells": [
  {
   "attachments": {},
   "cell_type": "markdown",
   "metadata": {},
   "source": [
    "# Outlier Analysis of Acme Co. Transactions"
   ]
  },
  {
   "attachments": {},
   "cell_type": "markdown",
   "metadata": {},
   "source": [
    "## Introduction\n",
    "\n",
    "Welcome to the Outlier Analysis of Acme Co. Transactions project! This GitHub repository showcases an in-depth analysis of transaction data from Acme Co., a fictional online retail company. This project is specifically tailored for potential employers to demonstrate my data analysis skills and expertise.\n",
    "\n",
    "The original dataset used in this analysis is sourced from the [UCI Machine Learning Repository](https://archive.ics.uci.edu/ml/datasets/online+retail). It provides a comprehensive collection of transaction records, encompassing product details, customer information, and sales data.\n",
    "\n",
    "As an analyst, my focus is on exploring and analyzing sales patterns outside of the United Kingdom for Acme Co. To achieve this, I have excluded sales data associated with the United Kingdom from the dataset. This allows us to concentrate on international sales and uncover insights specific to different countries.\n",
    "\n",
    "The primary objective of this analysis is to identify outliers within the dataset and examine sales patterns to discover countries, products, and clients that exhibit disproportionately high or low sales volumes. By pinpointing outliers, we can gain valuable insights into potential anomalies, unusual trends, or exceptional data points that warrant further investigation.\n",
    "\n",
    "By leveraging data visualization techniques, statistical analysis, and exploratory data exploration, this project aims to provide a comprehensive understanding of the outliers present in Acme Co. transactions. The insights derived from this analysis can assist organizations like Acme Co. in making informed, data-driven decisions to optimize their business operations and strategies.\n",
    "\n",
    "I invite you to explore this GitHub repository to gain an appreciation for my data analysis skills and techniques. It showcases my ability to uncover hidden patterns, identify outliers, and derive meaningful insights from complex datasets. Feel free to review the Jupyter Notebook and associated visualizations to understand the thought process, methodologies, and outcomes of this outlier analysis project.\n",
    "\n",
    "Thank you for your interest, and I look forward to discussing this project further with you."
   ]
  },
  {
   "attachments": {},
   "cell_type": "markdown",
   "metadata": {},
   "source": [
    "## Data Description\n",
    "\n",
    "The dataset contains transactional data of Acme Co., an online retailer based in the United Kingdom. The dataset consists of 8 variables that describe each transaction in the company's store. Here is a brief description of each variable:\n",
    "\n",
    "- **InvoiceNo:** The unique identifier of each transaction.\n",
    "- **StockCode:** The unique identifier of each product sold in the store.\n",
    "- **Description:** A brief description of each product sold in the store.\n",
    "- **Quantity:** The number of units of each product sold in the transaction.\n",
    "- **InvoiceDate:** The date and time when the transaction was made.\n",
    "- **UnitPrice:** The price of each unit of each product sold in the transaction.\n",
    "- **TotalPrice:** UnitPrice x Quantity\n",
    "- **CustomerID:** The unique identifier of each customer who made the transaction.\n",
    "- **Country:** The country where the transaction was made.\n",
    "\n",
    "Note that the dataset also includes transactions made in the United Kingdom, which were excluded in our analysis."
   ]
  },
  {
   "attachments": {},
   "cell_type": "markdown",
   "metadata": {},
   "source": [
    "# Data Frame Preparation"
   ]
  },
  {
   "attachments": {},
   "cell_type": "markdown",
   "metadata": {},
   "source": [
    "## Importing Libraries"
   ]
  },
  {
   "cell_type": "code",
   "execution_count": 1,
   "metadata": {},
   "outputs": [],
   "source": [
    "import pandas as pd\n",
    "import numpy as np\n",
    "import seaborn as sns\n",
    "import matplotlib.pyplot as plt\n",
    "from scipy import stats"
   ]
  },
  {
   "attachments": {},
   "cell_type": "markdown",
   "metadata": {},
   "source": [
    "## Importing Original Dataset"
   ]
  },
  {
   "cell_type": "code",
   "execution_count": 2,
   "metadata": {},
   "outputs": [],
   "source": [
    "df_full_dataset = pd.read_csv(\"online_retail.csv\")"
   ]
  },
  {
   "cell_type": "code",
   "execution_count": 3,
   "metadata": {},
   "outputs": [
    {
     "data": {
      "text/html": [
       "<div>\n",
       "<style scoped>\n",
       "    .dataframe tbody tr th:only-of-type {\n",
       "        vertical-align: middle;\n",
       "    }\n",
       "\n",
       "    .dataframe tbody tr th {\n",
       "        vertical-align: top;\n",
       "    }\n",
       "\n",
       "    .dataframe thead th {\n",
       "        text-align: right;\n",
       "    }\n",
       "</style>\n",
       "<table border=\"1\" class=\"dataframe\">\n",
       "  <thead>\n",
       "    <tr style=\"text-align: right;\">\n",
       "      <th></th>\n",
       "      <th>Unnamed: 0</th>\n",
       "      <th>InvoiceNo</th>\n",
       "      <th>StockCode</th>\n",
       "      <th>Description</th>\n",
       "      <th>Quantity</th>\n",
       "      <th>InvoiceDate</th>\n",
       "      <th>UnitPrice</th>\n",
       "      <th>CustomerID</th>\n",
       "      <th>Country</th>\n",
       "      <th>TotalPrice</th>\n",
       "    </tr>\n",
       "  </thead>\n",
       "  <tbody>\n",
       "    <tr>\n",
       "      <th>0</th>\n",
       "      <td>0</td>\n",
       "      <td>536365</td>\n",
       "      <td>85123A</td>\n",
       "      <td>WHITE HANGING HEART T-LIGHT HOLDER</td>\n",
       "      <td>6</td>\n",
       "      <td>2010-12-01 08:26:00</td>\n",
       "      <td>2.55</td>\n",
       "      <td>17850.0</td>\n",
       "      <td>United Kingdom</td>\n",
       "      <td>15.3</td>\n",
       "    </tr>\n",
       "  </tbody>\n",
       "</table>\n",
       "</div>"
      ],
      "text/plain": [
       "   Unnamed: 0 InvoiceNo StockCode                         Description   \n",
       "0           0    536365    85123A  WHITE HANGING HEART T-LIGHT HOLDER  \\\n",
       "\n",
       "   Quantity          InvoiceDate  UnitPrice  CustomerID         Country   \n",
       "0         6  2010-12-01 08:26:00       2.55     17850.0  United Kingdom  \\\n",
       "\n",
       "   TotalPrice  \n",
       "0        15.3  "
      ]
     },
     "execution_count": 3,
     "metadata": {},
     "output_type": "execute_result"
    }
   ],
   "source": [
    "df_full_dataset.head(1)"
   ]
  },
  {
   "cell_type": "code",
   "execution_count": 4,
   "metadata": {},
   "outputs": [
    {
     "name": "stdout",
     "output_type": "stream",
     "text": [
      "Rows: 541909\n",
      "Columns: 10\n"
     ]
    }
   ],
   "source": [
    "# Number of rows and columsn.\n",
    "print(\"Rows:\", df_full_dataset.shape[0])\n",
    "print(\"Columns:\", df_full_dataset.shape[1])"
   ]
  },
  {
   "attachments": {},
   "cell_type": "markdown",
   "metadata": {},
   "source": [
    "## Reducing the Dataset\n",
    "Because our analysis is only focused on countries outside of the United Kingdom, we are removing it from the dataset."
   ]
  },
  {
   "cell_type": "code",
   "execution_count": 5,
   "metadata": {},
   "outputs": [],
   "source": [
    "# Selecting all records that are NOT in the United Kingdom\n",
    "df = df_full_dataset.loc[~df_full_dataset.Country.isin(['United Kingdom', 'Unspecified'])]"
   ]
  },
  {
   "attachments": {},
   "cell_type": "markdown",
   "metadata": {},
   "source": [
    "## Resetting Index"
   ]
  },
  {
   "cell_type": "code",
   "execution_count": 6,
   "metadata": {},
   "outputs": [
    {
     "data": {
      "text/html": [
       "<div>\n",
       "<style scoped>\n",
       "    .dataframe tbody tr th:only-of-type {\n",
       "        vertical-align: middle;\n",
       "    }\n",
       "\n",
       "    .dataframe tbody tr th {\n",
       "        vertical-align: top;\n",
       "    }\n",
       "\n",
       "    .dataframe thead th {\n",
       "        text-align: right;\n",
       "    }\n",
       "</style>\n",
       "<table border=\"1\" class=\"dataframe\">\n",
       "  <thead>\n",
       "    <tr style=\"text-align: right;\">\n",
       "      <th></th>\n",
       "      <th>InvoiceNo</th>\n",
       "      <th>StockCode</th>\n",
       "      <th>Description</th>\n",
       "      <th>Quantity</th>\n",
       "      <th>InvoiceDate</th>\n",
       "      <th>UnitPrice</th>\n",
       "      <th>CustomerID</th>\n",
       "      <th>Country</th>\n",
       "      <th>TotalPrice</th>\n",
       "    </tr>\n",
       "  </thead>\n",
       "  <tbody>\n",
       "    <tr>\n",
       "      <th>0</th>\n",
       "      <td>536370</td>\n",
       "      <td>22728</td>\n",
       "      <td>ALARM CLOCK BAKELIKE PINK</td>\n",
       "      <td>24</td>\n",
       "      <td>2010-12-01 08:45:00</td>\n",
       "      <td>3.75</td>\n",
       "      <td>12583.0</td>\n",
       "      <td>France</td>\n",
       "      <td>90.0</td>\n",
       "    </tr>\n",
       "  </tbody>\n",
       "</table>\n",
       "</div>"
      ],
      "text/plain": [
       "  InvoiceNo StockCode                Description  Quantity   \n",
       "0    536370     22728  ALARM CLOCK BAKELIKE PINK        24  \\\n",
       "\n",
       "           InvoiceDate  UnitPrice  CustomerID Country  TotalPrice  \n",
       "0  2010-12-01 08:45:00       3.75     12583.0  France        90.0  "
      ]
     },
     "execution_count": 6,
     "metadata": {},
     "output_type": "execute_result"
    }
   ],
   "source": [
    "# Resetting index.\n",
    "df = df.reset_index(drop=True).drop('Unnamed: 0', axis=1)\n",
    "df.head(1)"
   ]
  },
  {
   "attachments": {},
   "cell_type": "markdown",
   "metadata": {},
   "source": [
    "## Rearranging Columns"
   ]
  },
  {
   "cell_type": "code",
   "execution_count": 7,
   "metadata": {},
   "outputs": [
    {
     "data": {
      "text/html": [
       "<div>\n",
       "<style scoped>\n",
       "    .dataframe tbody tr th:only-of-type {\n",
       "        vertical-align: middle;\n",
       "    }\n",
       "\n",
       "    .dataframe tbody tr th {\n",
       "        vertical-align: top;\n",
       "    }\n",
       "\n",
       "    .dataframe thead th {\n",
       "        text-align: right;\n",
       "    }\n",
       "</style>\n",
       "<table border=\"1\" class=\"dataframe\">\n",
       "  <thead>\n",
       "    <tr style=\"text-align: right;\">\n",
       "      <th></th>\n",
       "      <th>InvoiceDate</th>\n",
       "      <th>InvoiceNo</th>\n",
       "      <th>CustomerID</th>\n",
       "      <th>Country</th>\n",
       "      <th>StockCode</th>\n",
       "      <th>Description</th>\n",
       "      <th>Quantity</th>\n",
       "      <th>UnitPrice</th>\n",
       "      <th>TotalPrice</th>\n",
       "    </tr>\n",
       "  </thead>\n",
       "  <tbody>\n",
       "    <tr>\n",
       "      <th>0</th>\n",
       "      <td>2010-12-01 08:45:00</td>\n",
       "      <td>536370</td>\n",
       "      <td>12583.0</td>\n",
       "      <td>France</td>\n",
       "      <td>22728</td>\n",
       "      <td>ALARM CLOCK BAKELIKE PINK</td>\n",
       "      <td>24</td>\n",
       "      <td>3.75</td>\n",
       "      <td>90.0</td>\n",
       "    </tr>\n",
       "  </tbody>\n",
       "</table>\n",
       "</div>"
      ],
      "text/plain": [
       "           InvoiceDate InvoiceNo  CustomerID Country StockCode   \n",
       "0  2010-12-01 08:45:00    536370     12583.0  France     22728  \\\n",
       "\n",
       "                 Description  Quantity  UnitPrice  TotalPrice  \n",
       "0  ALARM CLOCK BAKELIKE PINK        24       3.75        90.0  "
      ]
     },
     "execution_count": 7,
     "metadata": {},
     "output_type": "execute_result"
    }
   ],
   "source": [
    "new_order = ['InvoiceDate', 'InvoiceNo', 'CustomerID', 'Country', 'StockCode', 'Description', 'Quantity', 'UnitPrice', 'TotalPrice']\n",
    "df = df.reindex(columns=new_order)\n",
    "df.head(1)"
   ]
  },
  {
   "attachments": {},
   "cell_type": "markdown",
   "metadata": {},
   "source": [
    "Dataset has **541909** rows and **8** columns."
   ]
  },
  {
   "cell_type": "code",
   "execution_count": 8,
   "metadata": {},
   "outputs": [
    {
     "data": {
      "text/plain": [
       "(45985, 9)"
      ]
     },
     "execution_count": 8,
     "metadata": {},
     "output_type": "execute_result"
    }
   ],
   "source": [
    "# Shape of the DataFrame\n",
    "df.shape"
   ]
  },
  {
   "attachments": {},
   "cell_type": "markdown",
   "metadata": {},
   "source": [
    "## Saving Backup"
   ]
  },
  {
   "cell_type": "code",
   "execution_count": 9,
   "metadata": {},
   "outputs": [],
   "source": [
    "df.to_csv(\"online_retail (UK excluded, precleaning)\")"
   ]
  },
  {
   "attachments": {},
   "cell_type": "markdown",
   "metadata": {},
   "source": [
    "# Data Cleaning"
   ]
  },
  {
   "cell_type": "code",
   "execution_count": 10,
   "metadata": {},
   "outputs": [
    {
     "data": {
      "text/html": [
       "<div>\n",
       "<style scoped>\n",
       "    .dataframe tbody tr th:only-of-type {\n",
       "        vertical-align: middle;\n",
       "    }\n",
       "\n",
       "    .dataframe tbody tr th {\n",
       "        vertical-align: top;\n",
       "    }\n",
       "\n",
       "    .dataframe thead th {\n",
       "        text-align: right;\n",
       "    }\n",
       "</style>\n",
       "<table border=\"1\" class=\"dataframe\">\n",
       "  <thead>\n",
       "    <tr style=\"text-align: right;\">\n",
       "      <th></th>\n",
       "      <th>InvoiceDate</th>\n",
       "      <th>InvoiceNo</th>\n",
       "      <th>CustomerID</th>\n",
       "      <th>Country</th>\n",
       "      <th>StockCode</th>\n",
       "      <th>Description</th>\n",
       "      <th>Quantity</th>\n",
       "      <th>UnitPrice</th>\n",
       "      <th>TotalPrice</th>\n",
       "    </tr>\n",
       "  </thead>\n",
       "  <tbody>\n",
       "    <tr>\n",
       "      <th>37875</th>\n",
       "      <td>2011-10-28 14:38:00</td>\n",
       "      <td>573286</td>\n",
       "      <td>NaN</td>\n",
       "      <td>Switzerland</td>\n",
       "      <td>22077</td>\n",
       "      <td>6 RIBBONS RUSTIC CHARM</td>\n",
       "      <td>7</td>\n",
       "      <td>1.95</td>\n",
       "      <td>13.65</td>\n",
       "    </tr>\n",
       "  </tbody>\n",
       "</table>\n",
       "</div>"
      ],
      "text/plain": [
       "               InvoiceDate InvoiceNo  CustomerID      Country StockCode   \n",
       "37875  2011-10-28 14:38:00    573286         NaN  Switzerland     22077  \\\n",
       "\n",
       "                  Description  Quantity  UnitPrice  TotalPrice  \n",
       "37875  6 RIBBONS RUSTIC CHARM         7       1.95       13.65  "
      ]
     },
     "execution_count": 10,
     "metadata": {},
     "output_type": "execute_result"
    }
   ],
   "source": [
    "df.sample(1)"
   ]
  },
  {
   "attachments": {},
   "cell_type": "markdown",
   "metadata": {},
   "source": [
    "## `InvoiceNo`\n",
    "The dataset has been enhanced by adding a new column called \"Cancelled\" to indicate whether each order was cancelled or not. The \"Cancelled\" column contains \"Yes\" for cancelled orders and \"No\" for non-cancelled orders. Additionally, the \"InvoiceNo\" column has been modified by removing the \"C\" prefix from cancelled order numbers and converting all invoice numbers to integers."
   ]
  },
  {
   "cell_type": "code",
   "execution_count": 12,
   "metadata": {},
   "outputs": [],
   "source": [
    "# Create a new column to indicate whether each order was cancelled or not\n",
    "df['Cancelled'] = df['InvoiceNo'].apply(lambda x: 'Yes' if str(x).startswith('C') else 'No')\n",
    "\n",
    "# Strip the \"C\" prefix from InvoiceNo values and convert them to integers\n",
    "df['InvoiceNo'] = df['InvoiceNo'].apply(lambda x: int(x[1:]) if str(x).startswith('C') else int(x))"
   ]
  },
  {
   "cell_type": "code",
   "execution_count": 13,
   "metadata": {},
   "outputs": [
    {
     "data": {
      "text/html": [
       "<div>\n",
       "<style scoped>\n",
       "    .dataframe tbody tr th:only-of-type {\n",
       "        vertical-align: middle;\n",
       "    }\n",
       "\n",
       "    .dataframe tbody tr th {\n",
       "        vertical-align: top;\n",
       "    }\n",
       "\n",
       "    .dataframe thead th {\n",
       "        text-align: right;\n",
       "    }\n",
       "</style>\n",
       "<table border=\"1\" class=\"dataframe\">\n",
       "  <thead>\n",
       "    <tr style=\"text-align: right;\">\n",
       "      <th></th>\n",
       "      <th>InvoiceDate</th>\n",
       "      <th>InvoiceNo</th>\n",
       "      <th>CustomerID</th>\n",
       "      <th>Country</th>\n",
       "      <th>StockCode</th>\n",
       "      <th>Description</th>\n",
       "      <th>Quantity</th>\n",
       "      <th>UnitPrice</th>\n",
       "      <th>TotalPrice</th>\n",
       "      <th>Cancelled</th>\n",
       "    </tr>\n",
       "  </thead>\n",
       "  <tbody>\n",
       "    <tr>\n",
       "      <th>1173</th>\n",
       "      <td>2010-12-09 15:41:00</td>\n",
       "      <td>538123</td>\n",
       "      <td>12605.0</td>\n",
       "      <td>Germany</td>\n",
       "      <td>22331</td>\n",
       "      <td>WOODLAND PARTY BAG + STICKER SET</td>\n",
       "      <td>-1</td>\n",
       "      <td>1.65</td>\n",
       "      <td>-1.65</td>\n",
       "      <td>Yes</td>\n",
       "    </tr>\n",
       "    <tr>\n",
       "      <th>11727</th>\n",
       "      <td>2011-04-07 12:20:00</td>\n",
       "      <td>549253</td>\n",
       "      <td>12408.0</td>\n",
       "      <td>Belgium</td>\n",
       "      <td>22328</td>\n",
       "      <td>ROUND SNACK BOXES SET OF 4 FRUITS</td>\n",
       "      <td>-1</td>\n",
       "      <td>2.95</td>\n",
       "      <td>-2.95</td>\n",
       "      <td>Yes</td>\n",
       "    </tr>\n",
       "    <tr>\n",
       "      <th>11431</th>\n",
       "      <td>2011-04-05 09:53:00</td>\n",
       "      <td>548915</td>\n",
       "      <td>12668.0</td>\n",
       "      <td>Germany</td>\n",
       "      <td>22329</td>\n",
       "      <td>ROUND CONTAINER SET OF 5 RETROSPOT</td>\n",
       "      <td>-12</td>\n",
       "      <td>1.65</td>\n",
       "      <td>-19.80</td>\n",
       "      <td>Yes</td>\n",
       "    </tr>\n",
       "  </tbody>\n",
       "</table>\n",
       "</div>"
      ],
      "text/plain": [
       "               InvoiceDate  InvoiceNo  CustomerID  Country StockCode   \n",
       "1173   2010-12-09 15:41:00     538123     12605.0  Germany     22331  \\\n",
       "11727  2011-04-07 12:20:00     549253     12408.0  Belgium     22328   \n",
       "11431  2011-04-05 09:53:00     548915     12668.0  Germany     22329   \n",
       "\n",
       "                              Description  Quantity  UnitPrice  TotalPrice   \n",
       "1173     WOODLAND PARTY BAG + STICKER SET        -1       1.65       -1.65  \\\n",
       "11727  ROUND SNACK BOXES SET OF 4 FRUITS         -1       2.95       -2.95   \n",
       "11431  ROUND CONTAINER SET OF 5 RETROSPOT       -12       1.65      -19.80   \n",
       "\n",
       "      Cancelled  \n",
       "1173        Yes  \n",
       "11727       Yes  \n",
       "11431       Yes  "
      ]
     },
     "execution_count": 13,
     "metadata": {},
     "output_type": "execute_result"
    }
   ],
   "source": [
    "df.loc[df['Cancelled']=='Yes'].sample(3)"
   ]
  },
  {
   "attachments": {},
   "cell_type": "markdown",
   "metadata": {},
   "source": [
    "## `StockCode`"
   ]
  },
  {
   "cell_type": "code",
   "execution_count": 17,
   "metadata": {},
   "outputs": [
    {
     "data": {
      "text/plain": [
       "StockCode\n",
       "POST     1112\n",
       "22423     339\n",
       "22326     316\n",
       "22554     224\n",
       "22556     208\n",
       "         ... \n",
       "21421       1\n",
       "23070       1\n",
       "35954       1\n",
       "20655       1\n",
       "23522       1\n",
       "Name: count, Length: 2795, dtype: int64"
      ]
     },
     "execution_count": 17,
     "metadata": {},
     "output_type": "execute_result"
    }
   ],
   "source": [
    "df.StockCode.value_counts()"
   ]
  },
  {
   "attachments": {},
   "cell_type": "markdown",
   "metadata": {},
   "source": [
    "Need to drop all rows that have \"POST\" in them because it refers to the cost of postage and isn't relevant to our analysis."
   ]
  },
  {
   "cell_type": "code",
   "execution_count": 14,
   "metadata": {},
   "outputs": [],
   "source": [
    "df.drop(df[df['StockCode'] == \"POST\"].index, axis=0, inplace=True)"
   ]
  },
  {
   "cell_type": "code",
   "execution_count": 15,
   "metadata": {},
   "outputs": [
    {
     "data": {
      "text/plain": [
       "StockCode\n",
       "22423     339\n",
       "22326     316\n",
       "22554     224\n",
       "22556     208\n",
       "22629     202\n",
       "         ... \n",
       "90205C      1\n",
       "90205A      1\n",
       "22685       1\n",
       "84249A      1\n",
       "23522       1\n",
       "Name: count, Length: 2794, dtype: int64"
      ]
     },
     "execution_count": 15,
     "metadata": {},
     "output_type": "execute_result"
    }
   ],
   "source": [
    "df.StockCode.value_counts()"
   ]
  },
  {
   "attachments": {},
   "cell_type": "markdown",
   "metadata": {},
   "source": [
    "## `Description`\n",
    "Stripping the text of whitespaces."
   ]
  },
  {
   "cell_type": "code",
   "execution_count": 16,
   "metadata": {},
   "outputs": [],
   "source": [
    "# Remove leading/trailing white spaces\n",
    "df['Description'] = df['Description'].str.strip()"
   ]
  },
  {
   "attachments": {},
   "cell_type": "markdown",
   "metadata": {},
   "source": [
    "## `Quantity`"
   ]
  },
  {
   "attachments": {},
   "cell_type": "markdown",
   "metadata": {},
   "source": [
    "- Some quantities are negative, meaning they were probably returns.\n",
    "- Created `negative_qty` dataframe."
   ]
  },
  {
   "cell_type": "code",
   "execution_count": 17,
   "metadata": {},
   "outputs": [
    {
     "name": "stdout",
     "output_type": "stream",
     "text": [
      "               InvoiceDate  InvoiceNo  CustomerID  Country StockCode   \n",
      "145    2010-12-01 14:33:00     536548     12472.0  Germany     22244  \\\n",
      "146    2010-12-01 14:33:00     536548     12472.0  Germany     22242   \n",
      "147    2010-12-01 14:33:00     536548     12472.0  Germany     20914   \n",
      "148    2010-12-01 14:33:00     536548     12472.0  Germany     22892   \n",
      "149    2010-12-01 14:33:00     536548     12472.0  Germany     22654   \n",
      "...                    ...        ...         ...      ...       ...   \n",
      "45728  2011-12-08 14:08:00     581409     12476.0  Germany     82484   \n",
      "45729  2011-12-08 14:08:00     581409     12476.0  Germany     82482   \n",
      "45730  2011-12-08 14:08:00     581409     12476.0  Germany     22173   \n",
      "45731  2011-12-08 14:08:00     581409     12476.0  Germany    85199L   \n",
      "45732  2011-12-08 14:08:00     581409     12476.0  Germany     85127   \n",
      "\n",
      "                               Description  Quantity  UnitPrice  TotalPrice   \n",
      "145             3 HOOK HANGER MAGIC GARDEN        -4       1.95       -7.80  \\\n",
      "146          5 HOOK HANGER MAGIC TOADSTOOL        -5       1.65       -8.25   \n",
      "147    SET/5 RED RETROSPOT LID GLASS BOWLS        -1       2.95       -2.95   \n",
      "148      SET OF SALT AND PEPPER TOADSTOOLS        -7       1.25       -8.75   \n",
      "149                      DELUXE SEWING KIT        -1       5.95       -5.95   \n",
      "...                                    ...       ...        ...         ...   \n",
      "45728    WOOD BLACK BOARD ANT WHITE FINISH        -1       7.95       -7.95   \n",
      "45729    WOODEN PICTURE FRAME WHITE FINISH        -1       2.95       -2.95   \n",
      "45730   METAL 4 HOOK HANGER FRENCH CHATEAU        -2       3.29       -6.58   \n",
      "45731  LARGE HANGING IVORY & RED WOOD BIRD        -1       0.65       -0.65   \n",
      "45732   SMALL SQUARE CUT GLASS CANDLESTICK        -5       4.95      -24.75   \n",
      "\n",
      "      Cancelled  \n",
      "145         Yes  \n",
      "146         Yes  \n",
      "147         Yes  \n",
      "148         Yes  \n",
      "149         Yes  \n",
      "...         ...  \n",
      "45728       Yes  \n",
      "45729       Yes  \n",
      "45730       Yes  \n",
      "45731       Yes  \n",
      "45732       Yes  \n",
      "\n",
      "[1394 rows x 10 columns]\n"
     ]
    }
   ],
   "source": [
    "negative_qty = df[df['Quantity'] < 0]"
   ]
  },
  {
   "attachments": {},
   "cell_type": "markdown",
   "metadata": {},
   "source": [
    "## `UnitPrice`\n",
    "No problems."
   ]
  },
  {
   "cell_type": "code",
   "execution_count": 18,
   "metadata": {},
   "outputs": [
    {
     "data": {
      "text/html": [
       "<div>\n",
       "<style scoped>\n",
       "    .dataframe tbody tr th:only-of-type {\n",
       "        vertical-align: middle;\n",
       "    }\n",
       "\n",
       "    .dataframe tbody tr th {\n",
       "        vertical-align: top;\n",
       "    }\n",
       "\n",
       "    .dataframe thead th {\n",
       "        text-align: right;\n",
       "    }\n",
       "</style>\n",
       "<table border=\"1\" class=\"dataframe\">\n",
       "  <thead>\n",
       "    <tr style=\"text-align: right;\">\n",
       "      <th></th>\n",
       "      <th>InvoiceDate</th>\n",
       "      <th>InvoiceNo</th>\n",
       "      <th>CustomerID</th>\n",
       "      <th>Country</th>\n",
       "      <th>StockCode</th>\n",
       "      <th>Description</th>\n",
       "      <th>Quantity</th>\n",
       "      <th>UnitPrice</th>\n",
       "      <th>TotalPrice</th>\n",
       "      <th>Cancelled</th>\n",
       "    </tr>\n",
       "  </thead>\n",
       "  <tbody>\n",
       "    <tr>\n",
       "      <th>0</th>\n",
       "      <td>2010-12-01 08:45:00</td>\n",
       "      <td>536370</td>\n",
       "      <td>12583.0</td>\n",
       "      <td>France</td>\n",
       "      <td>22728</td>\n",
       "      <td>ALARM CLOCK BAKELIKE PINK</td>\n",
       "      <td>24</td>\n",
       "      <td>3.75</td>\n",
       "      <td>90.0</td>\n",
       "      <td>No</td>\n",
       "    </tr>\n",
       "  </tbody>\n",
       "</table>\n",
       "</div>"
      ],
      "text/plain": [
       "           InvoiceDate  InvoiceNo  CustomerID Country StockCode   \n",
       "0  2010-12-01 08:45:00     536370     12583.0  France     22728  \\\n",
       "\n",
       "                 Description  Quantity  UnitPrice  TotalPrice Cancelled  \n",
       "0  ALARM CLOCK BAKELIKE PINK        24       3.75        90.0        No  "
      ]
     },
     "execution_count": 18,
     "metadata": {},
     "output_type": "execute_result"
    }
   ],
   "source": [
    "df.head(1)"
   ]
  },
  {
   "attachments": {},
   "cell_type": "markdown",
   "metadata": {},
   "source": [
    "There are a few cases where the price is zero. As an analyst, would need to ask questions about that."
   ]
  },
  {
   "cell_type": "code",
   "execution_count": 26,
   "metadata": {},
   "outputs": [
    {
     "data": {
      "text/plain": [
       "InvoiceDate          InvoiceNo  CustomerID  Country      StockCode  Description                          Quantity  UnitPrice  TotalPrice  Cancelled\n",
       "2010-12-05 14:02:00  537197     12647.0     Germany      22841      ROUND CAKE TIN VINTAGE GREEN         1         0.0        0.0         No           1\n",
       "2010-12-21 13:45:00  539722     14911.0     EIRE         22423      REGENCY CAKESTAND 3 TIER             10        0.0        0.0         No           1\n",
       "2011-04-14 18:57:00  550188     12457.0     Switzerland  22636      CHILDS BREAKFAST SET CIRCUS PARADE   1         0.0        0.0         No           1\n",
       "2011-05-20 14:13:00  554037     12415.0     Australia    22619      SET OF 6 SOLDIER SKITTLES            80        0.0        0.0         No           1\n",
       "2011-07-28 17:09:00  561669     12507.0     Spain        22960      JAM MAKING SET WITH JARS             11        0.0        0.0         No           1\n",
       "2011-08-11 11:42:00  562973     14911.0     EIRE         23157      SET OF 6 NATIVITY MAGNETS            240       0.0        0.0         No           1\n",
       "2011-08-26 14:19:00  564651     14646.0     Netherlands  21786      POLKADOT RAIN HAT                    144       0.0        0.0         No           1\n",
       "                                                         22955      36 FOIL STAR CAKE CASES              144       0.0        0.0         No           1\n",
       "                                                         23268      SET OF 2 CERAMIC CHRISTMAS REINDEER  192       0.0        0.0         No           1\n",
       "                                                         23270      SET OF 2 CERAMIC PAINTED HEARTS      96        0.0        0.0         No           1\n",
       "2011-10-13 12:50:00  571035     12446.0     RSA          M          Manual                               1         0.0        0.0         No           1\n",
       "2011-11-03 11:26:00  574138     12415.0     Australia    23234      BISCUIT TIN VINTAGE CHRISTMAS        216       0.0        0.0         No           1\n",
       "2011-11-03 13:24:00  574252     12437.0     France       M          Manual                               1         0.0        0.0         No           1\n",
       "2011-11-04 11:55:00  574469     12431.0     Australia    22385      JUMBO BAG SPACEBOY DESIGN            12        0.0        0.0         No           1\n",
       "2011-11-18 10:42:00  577168     12603.0     Germany      M          Manual                               1         0.0        0.0         No           1\n",
       "2011-11-18 13:23:00  577314     12444.0     Norway       23407      SET OF 2 TRAYS HOME SWEET HOME       2         0.0        0.0         No           1\n",
       "Name: count, dtype: int64"
      ]
     },
     "execution_count": 26,
     "metadata": {},
     "output_type": "execute_result"
    }
   ],
   "source": [
    "df.loc[(df.UnitPrice == 0)].value_counts()"
   ]
  },
  {
   "attachments": {},
   "cell_type": "markdown",
   "metadata": {},
   "source": [
    "## `InvoiceDate`"
   ]
  },
  {
   "attachments": {},
   "cell_type": "markdown",
   "metadata": {},
   "source": [
    "Converting from object to datetime."
   ]
  },
  {
   "cell_type": "code",
   "execution_count": 19,
   "metadata": {},
   "outputs": [],
   "source": [
    "df['InvoiceDate'] = pd.to_datetime(df['InvoiceDate'])"
   ]
  },
  {
   "cell_type": "code",
   "execution_count": 20,
   "metadata": {},
   "outputs": [
    {
     "data": {
      "text/plain": [
       "0       2010-12-01 08:45:00\n",
       "1       2010-12-01 08:45:00\n",
       "2       2010-12-01 08:45:00\n",
       "3       2010-12-01 08:45:00\n",
       "4       2010-12-01 08:45:00\n",
       "                ...        \n",
       "45980   2011-12-09 12:50:00\n",
       "45981   2011-12-09 12:50:00\n",
       "45982   2011-12-09 12:50:00\n",
       "45983   2011-12-09 12:50:00\n",
       "45984   2011-12-09 12:50:00\n",
       "Name: InvoiceDate, Length: 44873, dtype: datetime64[ns]"
      ]
     },
     "execution_count": 20,
     "metadata": {},
     "output_type": "execute_result"
    }
   ],
   "source": [
    "df.InvoiceDate"
   ]
  },
  {
   "attachments": {},
   "cell_type": "markdown",
   "metadata": {},
   "source": [
    "## Period\n",
    "We can see thje start and end of the time period."
   ]
  },
  {
   "cell_type": "code",
   "execution_count": 21,
   "metadata": {},
   "outputs": [
    {
     "name": "stdout",
     "output_type": "stream",
     "text": [
      "Start: 2010-12-01 08:45:00\n",
      "Finish 2011-12-09 12:50:00\n"
     ]
    }
   ],
   "source": [
    "print(\"Start:\", df['InvoiceDate'].min())\n",
    "print(\"Finish\", df['InvoiceDate'].max())\n"
   ]
  },
  {
   "attachments": {},
   "cell_type": "markdown",
   "metadata": {},
   "source": [
    "## `CustomerID`\n",
    "Keep in mind that there are some entries without CustomerID."
   ]
  },
  {
   "cell_type": "code",
   "execution_count": 22,
   "metadata": {},
   "outputs": [
    {
     "data": {
      "text/plain": [
       "CustomerID\n",
       "False    43597\n",
       "True      1276\n",
       "Name: count, dtype: int64"
      ]
     },
     "execution_count": 22,
     "metadata": {},
     "output_type": "execute_result"
    }
   ],
   "source": [
    "df.CustomerID.isna().value_counts()"
   ]
  },
  {
   "attachments": {},
   "cell_type": "markdown",
   "metadata": {},
   "source": [
    "There are also cases where the price is zero and the custoemr is NaN. Would need to investigate that."
   ]
  },
  {
   "cell_type": "code",
   "execution_count": 29,
   "metadata": {},
   "outputs": [
    {
     "data": {
      "text/html": [
       "<div>\n",
       "<style scoped>\n",
       "    .dataframe tbody tr th:only-of-type {\n",
       "        vertical-align: middle;\n",
       "    }\n",
       "\n",
       "    .dataframe tbody tr th {\n",
       "        vertical-align: top;\n",
       "    }\n",
       "\n",
       "    .dataframe thead th {\n",
       "        text-align: right;\n",
       "    }\n",
       "</style>\n",
       "<table border=\"1\" class=\"dataframe\">\n",
       "  <thead>\n",
       "    <tr style=\"text-align: right;\">\n",
       "      <th></th>\n",
       "      <th>InvoiceDate</th>\n",
       "      <th>InvoiceNo</th>\n",
       "      <th>CustomerID</th>\n",
       "      <th>Country</th>\n",
       "      <th>StockCode</th>\n",
       "      <th>Description</th>\n",
       "      <th>Quantity</th>\n",
       "      <th>UnitPrice</th>\n",
       "      <th>TotalPrice</th>\n",
       "      <th>Cancelled</th>\n",
       "    </tr>\n",
       "  </thead>\n",
       "  <tbody>\n",
       "    <tr>\n",
       "      <th>21579</th>\n",
       "      <td>2011-07-18 08:32:00</td>\n",
       "      <td>560283</td>\n",
       "      <td>NaN</td>\n",
       "      <td>EIRE</td>\n",
       "      <td>22624</td>\n",
       "      <td>IVORY KITCHEN SCALES</td>\n",
       "      <td>12</td>\n",
       "      <td>0.0</td>\n",
       "      <td>0.0</td>\n",
       "      <td>No</td>\n",
       "    </tr>\n",
       "    <tr>\n",
       "      <th>21580</th>\n",
       "      <td>2011-07-18 08:32:00</td>\n",
       "      <td>560283</td>\n",
       "      <td>NaN</td>\n",
       "      <td>EIRE</td>\n",
       "      <td>23196</td>\n",
       "      <td>VINTAGE LEAF MAGNETIC NOTEPAD</td>\n",
       "      <td>12</td>\n",
       "      <td>0.0</td>\n",
       "      <td>0.0</td>\n",
       "      <td>No</td>\n",
       "    </tr>\n",
       "  </tbody>\n",
       "</table>\n",
       "</div>"
      ],
      "text/plain": [
       "              InvoiceDate  InvoiceNo  CustomerID Country StockCode   \n",
       "21579 2011-07-18 08:32:00     560283         NaN    EIRE     22624  \\\n",
       "21580 2011-07-18 08:32:00     560283         NaN    EIRE     23196   \n",
       "\n",
       "                         Description  Quantity  UnitPrice  TotalPrice   \n",
       "21579           IVORY KITCHEN SCALES        12        0.0         0.0  \\\n",
       "21580  VINTAGE LEAF MAGNETIC NOTEPAD        12        0.0         0.0   \n",
       "\n",
       "      Cancelled  \n",
       "21579        No  \n",
       "21580        No  "
      ]
     },
     "execution_count": 29,
     "metadata": {},
     "output_type": "execute_result"
    }
   ],
   "source": [
    "df.loc[(df.CustomerID.isna()) & (df.UnitPrice == 0)]"
   ]
  },
  {
   "attachments": {},
   "cell_type": "markdown",
   "metadata": {},
   "source": [
    "## `Country`"
   ]
  },
  {
   "attachments": {},
   "cell_type": "markdown",
   "metadata": {},
   "source": [
    "Here are all the countries in the dataset."
   ]
  },
  {
   "cell_type": "code",
   "execution_count": 35,
   "metadata": {},
   "outputs": [],
   "source": [
    "country_list = df.Country.unique()\n",
    "country_list.sort()"
   ]
  },
  {
   "cell_type": "code",
   "execution_count": 36,
   "metadata": {},
   "outputs": [
    {
     "name": "stdout",
     "output_type": "stream",
     "text": [
      "['Australia' 'Austria' 'Bahrain' 'Belgium' 'Brazil' 'Canada'\n",
      " 'Channel Islands' 'Cyprus' 'Czech Republic' 'Denmark' 'EIRE'\n",
      " 'European Community' 'Finland' 'France' 'Germany' 'Greece' 'Hong Kong'\n",
      " 'Iceland' 'Israel' 'Italy' 'Japan' 'Lebanon' 'Lithuania' 'Malta'\n",
      " 'Netherlands' 'Norway' 'Poland' 'Portugal' 'RSA' 'Saudi Arabia'\n",
      " 'Singapore' 'Spain' 'Sweden' 'Switzerland' 'USA' 'United Arab Emirates']\n"
     ]
    }
   ],
   "source": [
    "print(country_list)"
   ]
  },
  {
   "attachments": {},
   "cell_type": "markdown",
   "metadata": {},
   "source": [
    "## Backup"
   ]
  },
  {
   "cell_type": "code",
   "execution_count": 37,
   "metadata": {},
   "outputs": [],
   "source": [
    "df.to_csv('online_retail (UK excluded, cleaned).csv')"
   ]
  },
  {
   "attachments": {},
   "cell_type": "markdown",
   "metadata": {},
   "source": [
    "# Outlier Analysis\n",
    "In this section of the analysis, we will explore and investigate outliers within the transaction data of Acme Co. Our focus will be on identifying key insights related to customer behavior, countries with significant sales, and top-selling products."
   ]
  },
  {
   "cell_type": "code",
   "execution_count": 39,
   "metadata": {},
   "outputs": [],
   "source": [
    "df = pd.read_csv(\"online_retail (UK excluded, cleaned).csv\")"
   ]
  },
  {
   "attachments": {},
   "cell_type": "markdown",
   "metadata": {},
   "source": [
    "## Which customers buy the most products?\n",
    "\n",
    "We will delve into customer purchasing patterns to identify the customers who make the highest number of product purchases. By examining this information, we can gain insights into the most active and valuable customers for Acme Co. This analysis will help us understand the customer segments that contribute significantly to the company's sales."
   ]
  },
  {
   "attachments": {},
   "cell_type": "markdown",
   "metadata": {},
   "source": [
    "### Number of Clients\n",
    "\n",
    "This code tells us the total number of customers we have in the dataset."
   ]
  },
  {
   "cell_type": "code",
   "execution_count": 44,
   "metadata": {},
   "outputs": [
    {
     "data": {
      "text/plain": [
       "418"
      ]
     },
     "execution_count": 44,
     "metadata": {},
     "output_type": "execute_result"
    }
   ],
   "source": [
    "df.CustomerID.nunique()"
   ]
  },
  {
   "attachments": {},
   "cell_type": "markdown",
   "metadata": {},
   "source": [
    "# How many items each client buys.\n",
    "\n",
    "Calculates the total quantity of products purchased by each customer and filters out customers with a quantity of 0 or less, resulting in a series of customers and their corresponding positive total quantities."
   ]
  },
  {
   "cell_type": "code",
   "execution_count": 98,
   "metadata": {},
   "outputs": [
    {
     "data": {
      "text/plain": [
       "CustomerID\n",
       "14646.0    196651\n",
       "Name: Quantity, dtype: int64"
      ]
     },
     "execution_count": 98,
     "metadata": {},
     "output_type": "execute_result"
    }
   ],
   "source": [
    "clients_by_quantity = df.groupby('CustomerID')['Quantity'].sum().sort_values(ascending=False)\n",
    "clients_by_quantity = clients_by_quantity[clients_by_quantity > 0]"
   ]
  },
  {
   "cell_type": "code",
   "execution_count": 73,
   "metadata": {},
   "outputs": [
    {
     "data": {
      "image/png": "[encoded data removed]",
      "text/plain": [
       "<Figure size 5000x800 with 1 Axes>"
      ]
     },
     "metadata": {},
     "output_type": "display_data"
    }
   ],
   "source": [
    "# Create the bar plot\n",
    "ax = clients_by_quantity.plot(kind='bar', color='blue', figsize=(50,8))\n",
    "\n",
    "# Set plot aesthetics\n",
    "ax.set_xlabel('')\n",
    "ax.set_ylabel('Total Quantity')\n",
    "ax.set_title('Purchase Orders by Customer')\n",
    "\n",
    "# Remove x-axis tick labels\n",
    "ax.set_xticklabels([])\n",
    "\n",
    "# Show the plot\n",
    "plt.show()"
   ]
  },
  {
   "attachments": {},
   "cell_type": "markdown",
   "metadata": {},
   "source": [
    "The bar plot above illustrates the distribution of purchase orders by customer for Acme Co. It is evident from the graph that a small number of customers are responsible for the majority of orders, while the remaining customers contribute relatively little. This indicates a highly skewed distribution, where very few customers make a significant number of purchases, while the majority of customers make comparatively fewer orders. Consequently, traditional indicators such as the mean and median may not be useful in capturing the overall pattern of customer purchasing behavior in this dataset."
   ]
  },
  {
   "attachments": {},
   "cell_type": "markdown",
   "metadata": {},
   "source": [
    "# Percentiles"
   ]
  },
  {
   "cell_type": "code",
   "execution_count": 206,
   "metadata": {},
   "outputs": [
    {
     "data": {
      "text/plain": [
       "172"
      ]
     },
     "execution_count": 206,
     "metadata": {},
     "output_type": "execute_result"
    }
   ],
   "source": [
    "num = clients_by_quantity.sort_values()\n",
    "num.iloc[75 - 1]"
   ]
  },
  {
   "attachments": {},
   "cell_type": "markdown",
   "metadata": {},
   "source": [
    "### Countries of Top Clients\n",
    "Let's see who these customers are.\n",
    "With the provided code, we can identify the countries of the top purchasers."
   ]
  },
  {
   "cell_type": "code",
   "execution_count": 95,
   "metadata": {},
   "outputs": [
    {
     "data": {
      "text/plain": [
       "CustomerID  Country    \n",
       "14911.0     EIRE           5903\n",
       "14646.0     Netherlands    2068\n",
       "14156.0     EIRE           1420\n",
       "12415.0     Australia       776\n",
       "12471.0     Germany         510\n",
       "12433.0     Norway          420\n",
       "12731.0     France          275\n",
       "12753.0     Japan           230\n",
       "17404.0     Sweden          199\n",
       "12678.0     France          159\n",
       "Name: count, dtype: int64"
      ]
     },
     "execution_count": 95,
     "metadata": {},
     "output_type": "execute_result"
    }
   ],
   "source": [
    "# Getting the customer IDS of the top 10 producers.\n",
    "top_10_clients = df.groupby('CustomerID')['Quantity'].sum().sort_values(ascending=False).head(10).index.to_list()\n",
    "\n",
    "\n",
    "df[['CustomerID', 'Country']].loc[df['CustomerID'].isin(top_10_clients)].value_counts()"
   ]
  },
  {
   "attachments": {},
   "cell_type": "markdown",
   "metadata": {},
   "source": [
    "### How valuable the top client is worth."
   ]
  },
  {
   "attachments": {},
   "cell_type": "markdown",
   "metadata": {},
   "source": [
    "From here, we can see that the top client `14646` is from the Netherlands.\n",
    "And we can also see that they bring in $278,466 in total revenue."
   ]
  },
  {
   "cell_type": "code",
   "execution_count": 115,
   "metadata": {},
   "outputs": [
    {
     "data": {
      "text/plain": [
       "CustomerID  Country    \n",
       "14646.0     Netherlands    278466.02\n",
       "Name: TotalPrice, dtype: float64"
      ]
     },
     "execution_count": 115,
     "metadata": {},
     "output_type": "execute_result"
    }
   ],
   "source": [
    "# Top Clients BY SALES\n",
    "client_revenue = df.groupby(['CustomerID', 'Country'])['TotalPrice'].sum().sort_values(ascending=False).head(1)\n",
    "client_revenue"
   ]
  },
  {
   "attachments": {},
   "cell_type": "markdown",
   "metadata": {},
   "source": [
    "And the total sales are **$1,487,552**."
   ]
  },
  {
   "cell_type": "code",
   "execution_count": 114,
   "metadata": {},
   "outputs": [
    {
     "data": {
      "text/plain": [
       "1487552.57"
      ]
     },
     "execution_count": 114,
     "metadata": {},
     "output_type": "execute_result"
    }
   ],
   "source": [
    "total_revenue = df.TotalPrice.sum()\n",
    "total_revenue"
   ]
  },
  {
   "attachments": {},
   "cell_type": "markdown",
   "metadata": {},
   "source": [
    "Meaning that ONE client is responsible for 18.7% of the company's revenue!"
   ]
  },
  {
   "cell_type": "code",
   "execution_count": 116,
   "metadata": {},
   "outputs": [
    {
     "data": {
      "text/plain": [
       "CustomerID  Country    \n",
       "14646.0     Netherlands    0.187197\n",
       "Name: TotalPrice, dtype: float64"
      ]
     },
     "execution_count": 116,
     "metadata": {},
     "output_type": "execute_result"
    }
   ],
   "source": [
    "client_revenue / total_revenue"
   ]
  },
  {
   "attachments": {},
   "cell_type": "markdown",
   "metadata": {},
   "source": [
    "## Which products sell the most?\n",
    "\n",
    "Identifying the top-selling products is essential for Acme Co. to optimize their inventory management and marketing strategies. By analyzing the sales data, we can identify the products that generate the highest sales volume. This analysis will allow us to understand customer preferences, identify popular product categories, and make data-driven decisions to maximize sales and profitability.\n",
    "\n",
    "Through these analyses, we aim to uncover valuable insights and outliers that will enable Acme Co. to make informed business decisions, refine their sales strategies, and drive overall growth.\n",
    "\n",
    "Let's proceed with the analysis and explore the fascinating outlier patterns within Acme Co.'s transaction data!"
   ]
  },
  {
   "cell_type": "code",
   "execution_count": 117,
   "metadata": {},
   "outputs": [
    {
     "data": {
      "text/html": [
       "<div>\n",
       "<style scoped>\n",
       "    .dataframe tbody tr th:only-of-type {\n",
       "        vertical-align: middle;\n",
       "    }\n",
       "\n",
       "    .dataframe tbody tr th {\n",
       "        vertical-align: top;\n",
       "    }\n",
       "\n",
       "    .dataframe thead th {\n",
       "        text-align: right;\n",
       "    }\n",
       "</style>\n",
       "<table border=\"1\" class=\"dataframe\">\n",
       "  <thead>\n",
       "    <tr style=\"text-align: right;\">\n",
       "      <th></th>\n",
       "      <th>Unnamed: 0</th>\n",
       "      <th>InvoiceDate</th>\n",
       "      <th>InvoiceNo</th>\n",
       "      <th>CustomerID</th>\n",
       "      <th>Country</th>\n",
       "      <th>StockCode</th>\n",
       "      <th>Description</th>\n",
       "      <th>Quantity</th>\n",
       "      <th>UnitPrice</th>\n",
       "      <th>TotalPrice</th>\n",
       "      <th>Cancelled</th>\n",
       "    </tr>\n",
       "  </thead>\n",
       "  <tbody>\n",
       "    <tr>\n",
       "      <th>0</th>\n",
       "      <td>0</td>\n",
       "      <td>2010-12-01 08:45:00</td>\n",
       "      <td>536370</td>\n",
       "      <td>12583.0</td>\n",
       "      <td>France</td>\n",
       "      <td>22728</td>\n",
       "      <td>ALARM CLOCK BAKELIKE PINK</td>\n",
       "      <td>24</td>\n",
       "      <td>3.75</td>\n",
       "      <td>90.0</td>\n",
       "      <td>No</td>\n",
       "    </tr>\n",
       "  </tbody>\n",
       "</table>\n",
       "</div>"
      ],
      "text/plain": [
       "   Unnamed: 0          InvoiceDate  InvoiceNo  CustomerID Country StockCode   \n",
       "0           0  2010-12-01 08:45:00     536370     12583.0  France     22728  \\\n",
       "\n",
       "                 Description  Quantity  UnitPrice  TotalPrice Cancelled  \n",
       "0  ALARM CLOCK BAKELIKE PINK        24       3.75        90.0        No  "
      ]
     },
     "execution_count": 117,
     "metadata": {},
     "output_type": "execute_result"
    }
   ],
   "source": [
    "df.head(1)"
   ]
  },
  {
   "attachments": {},
   "cell_type": "markdown",
   "metadata": {},
   "source": [
    "From the provided output, we can observe the most popular products based on the quantity sold. The top products are as follows:"
   ]
  },
  {
   "cell_type": "code",
   "execution_count": 133,
   "metadata": {},
   "outputs": [
    {
     "data": {
      "text/plain": [
       "Description\n",
       "RABBIT NIGHT LIGHT                  15465\n",
       "MINI PAINT SET VINTAGE              12517\n",
       "PACK OF 72 RETROSPOT CAKE CASES     11300\n",
       "SPACEBOY LUNCH BOX                   8374\n",
       "DOLLY GIRL LUNCH BOX                 7161\n",
       "                                    ...  \n",
       "MOROCCAN BEATEN METAL DISH LARGE        1\n",
       "DANISH ROSE BEDSIDE CABINET             1\n",
       "FAUX FUR CHOCOLATE THROW                1\n",
       "SET 36 COLOURING PENCILS DOILEY         1\n",
       "DANISH ROSE FOLDING CHAIR               1\n",
       "Name: Quantity, Length: 2841, dtype: int64"
      ]
     },
     "execution_count": 133,
     "metadata": {},
     "output_type": "execute_result"
    }
   ],
   "source": [
    "top_products = df.groupby(['Description'])['Quantity'].sum().sort_values(ascending=False)\n",
    "top_products = top_products[top_products > 0]\n",
    "top_products"
   ]
  },
  {
   "attachments": {},
   "cell_type": "markdown",
   "metadata": {},
   "source": [
    "### Bar Chart\n",
    "As we can see from the bar chart, we have the same situation where most of the products have really low sales, but there is a small group that of products that has most of the sales."
   ]
  },
  {
   "cell_type": "code",
   "execution_count": 135,
   "metadata": {},
   "outputs": [
    {
     "data": {
      "image/png": "[encoded data removed]",
      "text/plain": [
       "<Figure size 5000x800 with 1 Axes>"
      ]
     },
     "metadata": {},
     "output_type": "display_data"
    }
   ],
   "source": [
    "# Create the bar plot\n",
    "ax = top_products.sort_values(ascending=False).plot(kind='bar', color='blue', figsize=(50,8))\n",
    "\n",
    "# Set plot aesthetics\n",
    "ax.set_xlabel('')\n",
    "ax.set_ylabel('Total Quantity')\n",
    "ax.set_title('Purchase Orders by Customer')\n",
    "\n",
    "# Remove x-axis tick labels\n",
    "ax.set_xticklabels([])\n",
    "\n",
    "# Show the plot\n",
    "plt.show()"
   ]
  },
  {
   "attachments": {},
   "cell_type": "markdown",
   "metadata": {},
   "source": [
    "## Top Products\n",
    "So let's see which products are the most selling in general."
   ]
  },
  {
   "attachments": {},
   "cell_type": "markdown",
   "metadata": {},
   "source": [
    "### Different Products"
   ]
  },
  {
   "cell_type": "code",
   "execution_count": 145,
   "metadata": {},
   "outputs": [
    {
     "data": {
      "text/plain": [
       "2794"
      ]
     },
     "execution_count": 145,
     "metadata": {},
     "output_type": "execute_result"
    }
   ],
   "source": [
    "df.StockCode.nunique()"
   ]
  },
  {
   "attachments": {},
   "cell_type": "markdown",
   "metadata": {},
   "source": [
    "### Top Products"
   ]
  },
  {
   "cell_type": "code",
   "execution_count": 144,
   "metadata": {},
   "outputs": [
    {
     "data": {
      "text/plain": [
       "Description\n",
       "RABBIT NIGHT LIGHT                    15465\n",
       "MINI PAINT SET VINTAGE                12517\n",
       "PACK OF 72 RETROSPOT CAKE CASES       11300\n",
       "SPACEBOY LUNCH BOX                     8374\n",
       "DOLLY GIRL LUNCH BOX                   7161\n",
       "ROUND SNACK BOXES SET OF4 WOODLAND     6834\n",
       "RED TOADSTOOL LED NIGHT LIGHT          6762\n",
       "WORLD WAR 2 GLIDERS ASSTD DESIGNS      5425\n",
       "PLASTERS IN TIN WOODLAND ANIMALS       5168\n",
       "PLASTERS IN TIN SPACEBOY               4954\n",
       "Name: Quantity, dtype: int64"
      ]
     },
     "execution_count": 144,
     "metadata": {},
     "output_type": "execute_result"
    }
   ],
   "source": [
    "top_products.head(10)"
   ]
  },
  {
   "attachments": {},
   "cell_type": "markdown",
   "metadata": {},
   "source": [
    "## By Country\n",
    "Now let's see them by country."
   ]
  },
  {
   "cell_type": "code",
   "execution_count": 143,
   "metadata": {},
   "outputs": [
    {
     "data": {
      "image/png": "[encoded data removed]",
      "text/plain": [
       "<Figure size 1200x600 with 1 Axes>"
      ]
     },
     "metadata": {},
     "output_type": "display_data"
    },
    {
     "data": {
      "image/png": "[encoded data removed]",
      "text/plain": [
       "<Figure size 1200x600 with 1 Axes>"
      ]
     },
     "metadata": {},
     "output_type": "display_data"
    },
    {
     "data": {
      "image/png": "[encoded data removed]",
      "text/plain": [
       "<Figure size 1200x600 with 1 Axes>"
      ]
     },
     "metadata": {},
     "output_type": "display_data"
    }
   ],
   "source": [
    "# Create a DataFrame with the top products and their country quantities\n",
    "top_products_df = df.groupby('Description')['Quantity'].sum().sort_values(ascending=False).head(3).reset_index()\n",
    "\n",
    "for _, row in top_products_df.iterrows():\n",
    "    description = row['Description']\n",
    "    country_totals = df.loc[df['Description'] == description].groupby('Country')['Quantity'].sum().sort_values(ascending=False)\n",
    "    country_totals = country_totals[country_totals > 0]\n",
    "    \n",
    "    # Create the histogram\n",
    "    plt.figure(figsize=(12, 6))\n",
    "    sns.barplot(x=country_totals.values, y=country_totals.index)\n",
    "    plt.title(description)\n",
    "    plt.xlabel('Total Quantity')\n",
    "    plt.ylabel('Country')\n",
    "    plt.show()\n"
   ]
  },
  {
   "attachments": {},
   "cell_type": "markdown",
   "metadata": {},
   "source": [
    "We can see from each of the top selling products, that they too follow a Pareto Distribution where their success is in a particular country."
   ]
  },
  {
   "attachments": {},
   "cell_type": "markdown",
   "metadata": {},
   "source": [
    "## Who is buying these products?\n",
    "\n",
    "[Sales]"
   ]
  },
  {
   "attachments": {},
   "cell_type": "markdown",
   "metadata": {},
   "source": [
    "## How much are these products worth? Compared to total revenue.\n",
    "\n",
    "[Revenue]"
   ]
  },
  {
   "attachments": {},
   "cell_type": "markdown",
   "metadata": {},
   "source": [
    "# Analysis Summary\n",
    "\n",
    "## Understanding Customer Purchasing Patterns\n",
    "\n",
    "The analysis of customer purchasing patterns reveals valuable insights that can guide our actions and strategies. While the data is limited in resolution, it provides leads for further investigation and decision-making.\n",
    "\n",
    "### Concentration of Orders\n",
    "\n",
    "- The data comprises 418 unique customers, and we observe that the majority of orders are concentrated among a small group of customers.\n",
    "- This finding highlights the significance of focusing on these key customers who contribute significantly to the company's sales.\n",
    "\n",
    "### Popularity of Products\n",
    "\n",
    "- Among the 2,794 different products available, we observe that a small percentage of products constitute the majority of sales.\n",
    "- Approximately 20% of the products emerge as the most popular choices, while the remaining products experience comparatively lower sales volumes.\n",
    "\n",
    "### Regional Variations\n",
    "\n",
    "- Our analysis also reveals that popular products tend to be concentrated in specific countries.\n",
    "- Each popular product exhibits popularity primarily in a few select countries, indicating potential market segmentation opportunities.\n",
    "\n",
    "## Action Steps\n",
    "\n",
    "1. Identify and prioritize the top customers who generate the highest order volumes. This group presents an opportunity for further engagement and potentially establishing long-term relationships.\n",
    "2. Focus on promoting and optimizing the sales of the most popular products. These products have proven demand and can contribute significantly to overall sales.\n",
    "3. Analyze the regional variations in product popularity and tailor marketing strategies accordingly. Understanding the preferences and buying behavior of customers in different countries can help us target the right markets more effectively.\n",
    "\n",
    "Although the current analysis provides initial insights, further exploration and data refinement are recommended to gain a comprehensive understanding of customer behavior and maximize sales potential."
   ]
  }
 ],
 "metadata": {
  "kernelspec": {
   "display_name": "Python 3",
   "language": "python",
   "name": "python3"
  },
  "language_info": {
   "codemirror_mode": {
    "name": "ipython",
    "version": 3
   },
   "file_extension": ".py",
   "mimetype": "text/x-python",
   "name": "python",
   "nbconvert_exporter": "python",
   "pygments_lexer": "ipython3",
   "version": "3.11.3"
  },
  "orig_nbformat": 4
 },
 "nbformat": 4,
 "nbformat_minor": 2
}
