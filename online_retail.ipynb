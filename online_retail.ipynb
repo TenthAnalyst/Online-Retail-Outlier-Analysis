{
 "cells": [
  {
   "attachments": {},
   "cell_type": "markdown",
   "metadata": {},
   "source": [
    "# Online Retail Data Analysis"
   ]
  },
  {
   "attachments": {},
   "cell_type": "markdown",
   "metadata": {},
   "source": [
    "### Importing Libraries"
   ]
  },
  {
   "cell_type": "code",
   "execution_count": 1,
   "metadata": {},
   "outputs": [],
   "source": [
    "import pandas as pd\n",
    "import numpy as np\n",
    "import seaborn as sns\n",
    "import matplotlib.pyplot as plt\n",
    "from scipy import stats"
   ]
  },
  {
   "attachments": {},
   "cell_type": "markdown",
   "metadata": {},
   "source": [
    "### Importing Dataset"
   ]
  },
  {
   "cell_type": "code",
   "execution_count": 2,
   "metadata": {},
   "outputs": [],
   "source": [
    "df = pd.read_csv(\"online_retail.csv\")"
   ]
  },
  {
   "attachments": {},
   "cell_type": "markdown",
   "metadata": {},
   "source": [
    "### Data Set Information:\n",
    "- **Abstract:** This is a transnational data set which contains all the transactions occurring between 01/12/2010 and 09/12/2011 for a UK-based and registered non-store online retail.\n",
    "- **Rows:** 541,909\n",
    "- **Columns:** 8\n",
    "- **Data Set Characteristics:** Multivariate, Sequential, Time-Series\n",
    "- **Area:** Business\n",
    "- **Source:** Dr Daqing Chen, Director: Public Analytics group. chend@lsbu.ac.uk, School of Engineering, London South Bank University, London SE1 0AA, UK.\n",
    "- **Download Here:** https://archive.ics.uci.edu/ml/datasets/online+retail"
   ]
  },
  {
   "cell_type": "code",
   "execution_count": 12,
   "metadata": {},
   "outputs": [
    {
     "data": {
      "text/html": [
       "<div>\n",
       "<style scoped>\n",
       "    .dataframe tbody tr th:only-of-type {\n",
       "        vertical-align: middle;\n",
       "    }\n",
       "\n",
       "    .dataframe tbody tr th {\n",
       "        vertical-align: top;\n",
       "    }\n",
       "\n",
       "    .dataframe thead th {\n",
       "        text-align: right;\n",
       "    }\n",
       "</style>\n",
       "<table border=\"1\" class=\"dataframe\">\n",
       "  <thead>\n",
       "    <tr style=\"text-align: right;\">\n",
       "      <th></th>\n",
       "      <th>InvoiceDate</th>\n",
       "      <th>InvoiceNo</th>\n",
       "      <th>CustomerID</th>\n",
       "      <th>Country</th>\n",
       "      <th>StockCode</th>\n",
       "      <th>Description</th>\n",
       "      <th>Quantity</th>\n",
       "      <th>UnitPrice</th>\n",
       "      <th>TotalPrice</th>\n",
       "    </tr>\n",
       "  </thead>\n",
       "  <tbody>\n",
       "    <tr>\n",
       "      <th>0</th>\n",
       "      <td>2010-12-01 08:45:00</td>\n",
       "      <td>536370</td>\n",
       "      <td>12583.0</td>\n",
       "      <td>France</td>\n",
       "      <td>22728</td>\n",
       "      <td>ALARM CLOCK BAKELIKE PINK</td>\n",
       "      <td>24</td>\n",
       "      <td>3.75</td>\n",
       "      <td>90.0</td>\n",
       "    </tr>\n",
       "  </tbody>\n",
       "</table>\n",
       "</div>"
      ],
      "text/plain": [
       "           InvoiceDate InvoiceNo  CustomerID Country StockCode   \n",
       "0  2010-12-01 08:45:00    536370     12583.0  France     22728  \\\n",
       "\n",
       "                 Description  Quantity  UnitPrice  TotalPrice  \n",
       "0  ALARM CLOCK BAKELIKE PINK        24       3.75        90.0  "
      ]
     },
     "execution_count": 12,
     "metadata": {},
     "output_type": "execute_result"
    }
   ],
   "source": [
    "df.head(1)"
   ]
  },
  {
   "cell_type": "code",
   "execution_count": 14,
   "metadata": {},
   "outputs": [
    {
     "name": "stdout",
     "output_type": "stream",
     "text": [
      "Rows: 45985\n",
      "Columns: 9\n"
     ]
    }
   ],
   "source": [
    "# Number of rows and columsn.\n",
    "print(\"Rows:\", df.shape[0])\n",
    "print(\"Columns:\", df.shape[1])"
   ]
  },
  {
   "attachments": {},
   "cell_type": "markdown",
   "metadata": {},
   "source": [
    "### Column Information:\n",
    "\n",
    "- `InvoiceNo`: Invoice number. Nominal, a 6-digit integral number uniquely assigned to each transaction. If this code starts with letter `'c'`, it indicates a cancellation.\n",
    "- `StockCode`: Product (item) code. Nominal, a 5-digit integral number uniquely assigned to each distinct product.\n",
    "- `Description`: Product (item) name. Nominal.\n",
    "- `Quantity`: The quantities of each product (item) per transaction. Numeric.\n",
    "- `InvoiceDate`: Invice Date and time. Numeric, the day and time when each transaction was generated.\n",
    "- `UnitPrice`: Unit price. Numeric, Product price per unit in sterling.\n",
    "- `CustomerID`: Customer number. Nominal, a 5-digit integral number uniquely assigned to each customer.\n",
    "- `Country`: Country name. Nominal, the name of the country where each customer resides."
   ]
  },
  {
   "attachments": {},
   "cell_type": "markdown",
   "metadata": {},
   "source": [
    "### Reducing DataSet\n",
    "- Only foocusing on countries outside of the UK.\n",
    "- Removing UK and Unspecified from the dataset."
   ]
  },
  {
   "cell_type": "code",
   "execution_count": 3,
   "metadata": {},
   "outputs": [],
   "source": [
    "# Selecting all records that are NOT in the United Kingdom\n",
    "df = df.loc[~df.Country.isin(['United Kingdom', 'Unspecified'])]"
   ]
  },
  {
   "attachments": {},
   "cell_type": "markdown",
   "metadata": {},
   "source": [
    "### Resetting Index"
   ]
  },
  {
   "cell_type": "code",
   "execution_count": 9,
   "metadata": {},
   "outputs": [
    {
     "data": {
      "text/html": [
       "<div>\n",
       "<style scoped>\n",
       "    .dataframe tbody tr th:only-of-type {\n",
       "        vertical-align: middle;\n",
       "    }\n",
       "\n",
       "    .dataframe tbody tr th {\n",
       "        vertical-align: top;\n",
       "    }\n",
       "\n",
       "    .dataframe thead th {\n",
       "        text-align: right;\n",
       "    }\n",
       "</style>\n",
       "<table border=\"1\" class=\"dataframe\">\n",
       "  <thead>\n",
       "    <tr style=\"text-align: right;\">\n",
       "      <th></th>\n",
       "      <th>InvoiceNo</th>\n",
       "      <th>StockCode</th>\n",
       "      <th>Description</th>\n",
       "      <th>Quantity</th>\n",
       "      <th>InvoiceDate</th>\n",
       "      <th>UnitPrice</th>\n",
       "      <th>CustomerID</th>\n",
       "      <th>Country</th>\n",
       "      <th>TotalPrice</th>\n",
       "    </tr>\n",
       "  </thead>\n",
       "  <tbody>\n",
       "    <tr>\n",
       "      <th>0</th>\n",
       "      <td>536370</td>\n",
       "      <td>22728</td>\n",
       "      <td>ALARM CLOCK BAKELIKE PINK</td>\n",
       "      <td>24</td>\n",
       "      <td>2010-12-01 08:45:00</td>\n",
       "      <td>3.75</td>\n",
       "      <td>12583.0</td>\n",
       "      <td>France</td>\n",
       "      <td>90.0</td>\n",
       "    </tr>\n",
       "  </tbody>\n",
       "</table>\n",
       "</div>"
      ],
      "text/plain": [
       "  InvoiceNo StockCode                Description  Quantity   \n",
       "0    536370     22728  ALARM CLOCK BAKELIKE PINK        24  \\\n",
       "\n",
       "           InvoiceDate  UnitPrice  CustomerID Country  TotalPrice  \n",
       "0  2010-12-01 08:45:00       3.75     12583.0  France        90.0  "
      ]
     },
     "execution_count": 9,
     "metadata": {},
     "output_type": "execute_result"
    }
   ],
   "source": [
    "# Resetting index.\n",
    "df = df.reset_index(drop=True).drop('Unnamed: 0', axis=1)\n",
    "df.head(1)"
   ]
  },
  {
   "attachments": {},
   "cell_type": "markdown",
   "metadata": {},
   "source": [
    "### Rearranging Columns"
   ]
  },
  {
   "cell_type": "code",
   "execution_count": 11,
   "metadata": {},
   "outputs": [
    {
     "data": {
      "text/html": [
       "<div>\n",
       "<style scoped>\n",
       "    .dataframe tbody tr th:only-of-type {\n",
       "        vertical-align: middle;\n",
       "    }\n",
       "\n",
       "    .dataframe tbody tr th {\n",
       "        vertical-align: top;\n",
       "    }\n",
       "\n",
       "    .dataframe thead th {\n",
       "        text-align: right;\n",
       "    }\n",
       "</style>\n",
       "<table border=\"1\" class=\"dataframe\">\n",
       "  <thead>\n",
       "    <tr style=\"text-align: right;\">\n",
       "      <th></th>\n",
       "      <th>InvoiceDate</th>\n",
       "      <th>InvoiceNo</th>\n",
       "      <th>CustomerID</th>\n",
       "      <th>Country</th>\n",
       "      <th>StockCode</th>\n",
       "      <th>Description</th>\n",
       "      <th>Quantity</th>\n",
       "      <th>UnitPrice</th>\n",
       "      <th>TotalPrice</th>\n",
       "    </tr>\n",
       "  </thead>\n",
       "  <tbody>\n",
       "    <tr>\n",
       "      <th>0</th>\n",
       "      <td>2010-12-01 08:45:00</td>\n",
       "      <td>536370</td>\n",
       "      <td>12583.0</td>\n",
       "      <td>France</td>\n",
       "      <td>22728</td>\n",
       "      <td>ALARM CLOCK BAKELIKE PINK</td>\n",
       "      <td>24</td>\n",
       "      <td>3.75</td>\n",
       "      <td>90.0</td>\n",
       "    </tr>\n",
       "  </tbody>\n",
       "</table>\n",
       "</div>"
      ],
      "text/plain": [
       "           InvoiceDate InvoiceNo  CustomerID Country StockCode   \n",
       "0  2010-12-01 08:45:00    536370     12583.0  France     22728  \\\n",
       "\n",
       "                 Description  Quantity  UnitPrice  TotalPrice  \n",
       "0  ALARM CLOCK BAKELIKE PINK        24       3.75        90.0  "
      ]
     },
     "execution_count": 11,
     "metadata": {},
     "output_type": "execute_result"
    }
   ],
   "source": [
    "new_order = ['InvoiceDate', 'InvoiceNo', 'CustomerID', 'Country', 'StockCode', 'Description', 'Quantity', 'UnitPrice', 'TotalPrice']\n",
    "df = df.reindex(columns=new_order)\n",
    "df.head(1)"
   ]
  },
  {
   "attachments": {},
   "cell_type": "markdown",
   "metadata": {},
   "source": [
    "### Describing the Dataset"
   ]
  },
  {
   "cell_type": "code",
   "execution_count": 6,
   "metadata": {},
   "outputs": [
    {
     "data": {
      "text/html": [
       "<div>\n",
       "<style scoped>\n",
       "    .dataframe tbody tr th:only-of-type {\n",
       "        vertical-align: middle;\n",
       "    }\n",
       "\n",
       "    .dataframe tbody tr th {\n",
       "        vertical-align: top;\n",
       "    }\n",
       "\n",
       "    .dataframe thead th {\n",
       "        text-align: right;\n",
       "    }\n",
       "</style>\n",
       "<table border=\"1\" class=\"dataframe\">\n",
       "  <thead>\n",
       "    <tr style=\"text-align: right;\">\n",
       "      <th></th>\n",
       "      <th>InvoiceNo</th>\n",
       "      <th>StockCode</th>\n",
       "      <th>Description</th>\n",
       "      <th>Quantity</th>\n",
       "      <th>InvoiceDate</th>\n",
       "      <th>UnitPrice</th>\n",
       "      <th>CustomerID</th>\n",
       "      <th>Country</th>\n",
       "      <th>TotalPrice</th>\n",
       "    </tr>\n",
       "  </thead>\n",
       "  <tbody>\n",
       "    <tr>\n",
       "      <th>0</th>\n",
       "      <td>536370</td>\n",
       "      <td>22728</td>\n",
       "      <td>ALARM CLOCK BAKELIKE PINK</td>\n",
       "      <td>24</td>\n",
       "      <td>2010-12-01 08:45:00</td>\n",
       "      <td>3.75</td>\n",
       "      <td>12583.0</td>\n",
       "      <td>France</td>\n",
       "      <td>90.0</td>\n",
       "    </tr>\n",
       "    <tr>\n",
       "      <th>1</th>\n",
       "      <td>536370</td>\n",
       "      <td>22727</td>\n",
       "      <td>ALARM CLOCK BAKELIKE RED</td>\n",
       "      <td>24</td>\n",
       "      <td>2010-12-01 08:45:00</td>\n",
       "      <td>3.75</td>\n",
       "      <td>12583.0</td>\n",
       "      <td>France</td>\n",
       "      <td>90.0</td>\n",
       "    </tr>\n",
       "    <tr>\n",
       "      <th>2</th>\n",
       "      <td>536370</td>\n",
       "      <td>22726</td>\n",
       "      <td>ALARM CLOCK BAKELIKE GREEN</td>\n",
       "      <td>12</td>\n",
       "      <td>2010-12-01 08:45:00</td>\n",
       "      <td>3.75</td>\n",
       "      <td>12583.0</td>\n",
       "      <td>France</td>\n",
       "      <td>45.0</td>\n",
       "    </tr>\n",
       "  </tbody>\n",
       "</table>\n",
       "</div>"
      ],
      "text/plain": [
       "  InvoiceNo StockCode                 Description  Quantity   \n",
       "0    536370     22728   ALARM CLOCK BAKELIKE PINK        24  \\\n",
       "1    536370     22727   ALARM CLOCK BAKELIKE RED         24   \n",
       "2    536370     22726  ALARM CLOCK BAKELIKE GREEN        12   \n",
       "\n",
       "           InvoiceDate  UnitPrice  CustomerID Country  TotalPrice  \n",
       "0  2010-12-01 08:45:00       3.75     12583.0  France        90.0  \n",
       "1  2010-12-01 08:45:00       3.75     12583.0  France        90.0  \n",
       "2  2010-12-01 08:45:00       3.75     12583.0  France        45.0  "
      ]
     },
     "execution_count": 6,
     "metadata": {},
     "output_type": "execute_result"
    }
   ],
   "source": [
    "df.head(3)"
   ]
  },
  {
   "attachments": {},
   "cell_type": "markdown",
   "metadata": {},
   "source": [
    "Dataset has **541909** rows and **8** columns."
   ]
  },
  {
   "cell_type": "code",
   "execution_count": 7,
   "metadata": {},
   "outputs": [],
   "source": [
    "# Creating Total Price\n",
    "df['TotalPrice'] = df['UnitPrice'] * df['Quantity']"
   ]
  },
  {
   "cell_type": "code",
   "execution_count": 8,
   "metadata": {},
   "outputs": [
    {
     "data": {
      "text/plain": [
       "(46431, 9)"
      ]
     },
     "execution_count": 8,
     "metadata": {},
     "output_type": "execute_result"
    }
   ],
   "source": [
    "# Shape of the DataFrame\n",
    "df.shape"
   ]
  },
  {
   "attachments": {},
   "cell_type": "markdown",
   "metadata": {},
   "source": [
    "# Data Cleaning (column-by-column)"
   ]
  },
  {
   "attachments": {},
   "cell_type": "markdown",
   "metadata": {},
   "source": [
    "#### `InvoiceNo`\n",
    "- Converting C542924 → 542924\n",
    "- If there was a 'C' in the front, put \"Yes\" in 'Cancelled' column."
   ]
  },
  {
   "cell_type": "code",
   "execution_count": 15,
   "metadata": {},
   "outputs": [],
   "source": [
    "# Create a new column to indicate whether each order was cancelled or not\n",
    "df['Cancelled'] = df['InvoiceNo'].apply(lambda x: 'Yes' if str(x).startswith('C') else 'No')\n",
    "\n",
    "# Strip the \"C\" prefix from InvoiceNo values and convert them to integers\n",
    "df['InvoiceNo'] = df['InvoiceNo'].apply(lambda x: int(x[1:]) if str(x).startswith('C') else int(x))"
   ]
  },
  {
   "cell_type": "code",
   "execution_count": 16,
   "metadata": {},
   "outputs": [
    {
     "data": {
      "text/html": [
       "<div>\n",
       "<style scoped>\n",
       "    .dataframe tbody tr th:only-of-type {\n",
       "        vertical-align: middle;\n",
       "    }\n",
       "\n",
       "    .dataframe tbody tr th {\n",
       "        vertical-align: top;\n",
       "    }\n",
       "\n",
       "    .dataframe thead th {\n",
       "        text-align: right;\n",
       "    }\n",
       "</style>\n",
       "<table border=\"1\" class=\"dataframe\">\n",
       "  <thead>\n",
       "    <tr style=\"text-align: right;\">\n",
       "      <th></th>\n",
       "      <th>InvoiceDate</th>\n",
       "      <th>InvoiceNo</th>\n",
       "      <th>CustomerID</th>\n",
       "      <th>Country</th>\n",
       "      <th>StockCode</th>\n",
       "      <th>Description</th>\n",
       "      <th>Quantity</th>\n",
       "      <th>UnitPrice</th>\n",
       "      <th>TotalPrice</th>\n",
       "      <th>Cancelled</th>\n",
       "    </tr>\n",
       "  </thead>\n",
       "  <tbody>\n",
       "    <tr>\n",
       "      <th>22832</th>\n",
       "      <td>2011-07-26 15:10:00</td>\n",
       "      <td>561358</td>\n",
       "      <td>12626.0</td>\n",
       "      <td>Germany</td>\n",
       "      <td>22303</td>\n",
       "      <td>COFFEE MUG APPLES DESIGN</td>\n",
       "      <td>-1</td>\n",
       "      <td>2.10</td>\n",
       "      <td>-2.10</td>\n",
       "      <td>Yes</td>\n",
       "    </tr>\n",
       "    <tr>\n",
       "      <th>3300</th>\n",
       "      <td>2011-01-12 09:41:00</td>\n",
       "      <td>540850</td>\n",
       "      <td>12665.0</td>\n",
       "      <td>Germany</td>\n",
       "      <td>21231</td>\n",
       "      <td>SWEETHEART CERAMIC TRINKET BOX</td>\n",
       "      <td>-1</td>\n",
       "      <td>1.25</td>\n",
       "      <td>-1.25</td>\n",
       "      <td>Yes</td>\n",
       "    </tr>\n",
       "    <tr>\n",
       "      <th>26402</th>\n",
       "      <td>2011-08-23 11:02:00</td>\n",
       "      <td>564134</td>\n",
       "      <td>12456.0</td>\n",
       "      <td>Switzerland</td>\n",
       "      <td>22551</td>\n",
       "      <td>PLASTERS IN TIN SPACEBOY</td>\n",
       "      <td>-1</td>\n",
       "      <td>1.65</td>\n",
       "      <td>-1.65</td>\n",
       "      <td>Yes</td>\n",
       "    </tr>\n",
       "  </tbody>\n",
       "</table>\n",
       "</div>"
      ],
      "text/plain": [
       "               InvoiceDate  InvoiceNo  CustomerID      Country StockCode   \n",
       "22832  2011-07-26 15:10:00     561358     12626.0      Germany     22303  \\\n",
       "3300   2011-01-12 09:41:00     540850     12665.0      Germany     21231   \n",
       "26402  2011-08-23 11:02:00     564134     12456.0  Switzerland     22551   \n",
       "\n",
       "                          Description  Quantity  UnitPrice  TotalPrice   \n",
       "22832        COFFEE MUG APPLES DESIGN        -1       2.10       -2.10  \\\n",
       "3300   SWEETHEART CERAMIC TRINKET BOX        -1       1.25       -1.25   \n",
       "26402        PLASTERS IN TIN SPACEBOY        -1       1.65       -1.65   \n",
       "\n",
       "      Cancelled  \n",
       "22832       Yes  \n",
       "3300        Yes  \n",
       "26402       Yes  "
      ]
     },
     "execution_count": 16,
     "metadata": {},
     "output_type": "execute_result"
    }
   ],
   "source": [
    "df.loc[df['Cancelled']=='Yes'].sample(3)"
   ]
  },
  {
   "attachments": {},
   "cell_type": "markdown",
   "metadata": {},
   "source": [
    "### `StockCode`\n",
    "Need to drop all rows that have \"POST\" in them because it refers to the cost of postage and isn't relevant to our analysis."
   ]
  },
  {
   "cell_type": "code",
   "execution_count": 17,
   "metadata": {},
   "outputs": [
    {
     "data": {
      "text/plain": [
       "StockCode\n",
       "POST     1112\n",
       "22423     339\n",
       "22326     316\n",
       "22554     224\n",
       "22556     208\n",
       "         ... \n",
       "21421       1\n",
       "23070       1\n",
       "35954       1\n",
       "20655       1\n",
       "23522       1\n",
       "Name: count, Length: 2795, dtype: int64"
      ]
     },
     "execution_count": 17,
     "metadata": {},
     "output_type": "execute_result"
    }
   ],
   "source": [
    "df.StockCode.value_counts()"
   ]
  },
  {
   "cell_type": "code",
   "execution_count": 19,
   "metadata": {},
   "outputs": [],
   "source": [
    "df.drop(df[df['StockCode'] == \"POST\"].index, axis=0, inplace=True)"
   ]
  },
  {
   "cell_type": "code",
   "execution_count": 21,
   "metadata": {},
   "outputs": [
    {
     "data": {
      "text/plain": [
       "StockCode\n",
       "22423     339\n",
       "22326     316\n",
       "22554     224\n",
       "22556     208\n",
       "22629     202\n",
       "         ... \n",
       "90205C      1\n",
       "90205A      1\n",
       "22685       1\n",
       "84249A      1\n",
       "23522       1\n",
       "Name: count, Length: 2794, dtype: int64"
      ]
     },
     "execution_count": 21,
     "metadata": {},
     "output_type": "execute_result"
    }
   ],
   "source": [
    "df.StockCode.value_counts()"
   ]
  },
  {
   "attachments": {},
   "cell_type": "markdown",
   "metadata": {},
   "source": [
    "### `Description`\n",
    "- Cleaning up the text. Nothing out of the ordinary."
   ]
  },
  {
   "cell_type": "code",
   "execution_count": 23,
   "metadata": {},
   "outputs": [],
   "source": [
    "# Remove leading/trailing white spaces\n",
    "df['Description'] = df['Description'].str.strip()"
   ]
  },
  {
   "attachments": {},
   "cell_type": "markdown",
   "metadata": {},
   "source": [
    "### `Quantity`"
   ]
  },
  {
   "attachments": {},
   "cell_type": "markdown",
   "metadata": {},
   "source": [
    "#### Negative Values\n",
    "- Some quantities are negative, meaning they were probably returns.\n",
    "- Created `negative_qty` dataframe."
   ]
  },
  {
   "cell_type": "code",
   "execution_count": 25,
   "metadata": {},
   "outputs": [
    {
     "name": "stdout",
     "output_type": "stream",
     "text": [
      "               InvoiceDate  InvoiceNo  CustomerID  Country StockCode   \n",
      "145    2010-12-01 14:33:00     536548     12472.0  Germany     22244  \\\n",
      "146    2010-12-01 14:33:00     536548     12472.0  Germany     22242   \n",
      "147    2010-12-01 14:33:00     536548     12472.0  Germany     20914   \n",
      "148    2010-12-01 14:33:00     536548     12472.0  Germany     22892   \n",
      "149    2010-12-01 14:33:00     536548     12472.0  Germany     22654   \n",
      "...                    ...        ...         ...      ...       ...   \n",
      "45728  2011-12-08 14:08:00     581409     12476.0  Germany     82484   \n",
      "45729  2011-12-08 14:08:00     581409     12476.0  Germany     82482   \n",
      "45730  2011-12-08 14:08:00     581409     12476.0  Germany     22173   \n",
      "45731  2011-12-08 14:08:00     581409     12476.0  Germany    85199L   \n",
      "45732  2011-12-08 14:08:00     581409     12476.0  Germany     85127   \n",
      "\n",
      "                               Description  Quantity  UnitPrice  TotalPrice   \n",
      "145             3 HOOK HANGER MAGIC GARDEN        -4       1.95       -7.80  \\\n",
      "146          5 HOOK HANGER MAGIC TOADSTOOL        -5       1.65       -8.25   \n",
      "147    SET/5 RED RETROSPOT LID GLASS BOWLS        -1       2.95       -2.95   \n",
      "148      SET OF SALT AND PEPPER TOADSTOOLS        -7       1.25       -8.75   \n",
      "149                      DELUXE SEWING KIT        -1       5.95       -5.95   \n",
      "...                                    ...       ...        ...         ...   \n",
      "45728    WOOD BLACK BOARD ANT WHITE FINISH        -1       7.95       -7.95   \n",
      "45729    WOODEN PICTURE FRAME WHITE FINISH        -1       2.95       -2.95   \n",
      "45730   METAL 4 HOOK HANGER FRENCH CHATEAU        -2       3.29       -6.58   \n",
      "45731  LARGE HANGING IVORY & RED WOOD BIRD        -1       0.65       -0.65   \n",
      "45732   SMALL SQUARE CUT GLASS CANDLESTICK        -5       4.95      -24.75   \n",
      "\n",
      "      Cancelled  \n",
      "145         Yes  \n",
      "146         Yes  \n",
      "147         Yes  \n",
      "148         Yes  \n",
      "149         Yes  \n",
      "...         ...  \n",
      "45728       Yes  \n",
      "45729       Yes  \n",
      "45730       Yes  \n",
      "45731       Yes  \n",
      "45732       Yes  \n",
      "\n",
      "[1394 rows x 10 columns]\n"
     ]
    }
   ],
   "source": [
    "negative_qty = df[df['Quantity'] < 0]\n",
    "print(negative_qty)"
   ]
  },
  {
   "attachments": {},
   "cell_type": "markdown",
   "metadata": {},
   "source": [
    "### Quantity of Orders Boxplot?"
   ]
  },
  {
   "cell_type": "code",
   "execution_count": 27,
   "metadata": {},
   "outputs": [
    {
     "data": {
      "text/plain": [
       "<Axes: >"
      ]
     },
     "execution_count": 27,
     "metadata": {},
     "output_type": "execute_result"
    },
    {
     "data": {
      "image/png": "[encoded data removed]",
      "text/plain": [
       "<Figure size 640x480 with 1 Axes>"
      ]
     },
     "metadata": {},
     "output_type": "display_data"
    }
   ],
   "source": [
    "df['Quantity'].plot(kind='box')"
   ]
  },
  {
   "attachments": {},
   "cell_type": "markdown",
   "metadata": {},
   "source": [
    "### `UnitPrice`\n",
    "No problems."
   ]
  },
  {
   "cell_type": "code",
   "execution_count": 26,
   "metadata": {},
   "outputs": [
    {
     "data": {
      "text/html": [
       "<div>\n",
       "<style scoped>\n",
       "    .dataframe tbody tr th:only-of-type {\n",
       "        vertical-align: middle;\n",
       "    }\n",
       "\n",
       "    .dataframe tbody tr th {\n",
       "        vertical-align: top;\n",
       "    }\n",
       "\n",
       "    .dataframe thead th {\n",
       "        text-align: right;\n",
       "    }\n",
       "</style>\n",
       "<table border=\"1\" class=\"dataframe\">\n",
       "  <thead>\n",
       "    <tr style=\"text-align: right;\">\n",
       "      <th></th>\n",
       "      <th>InvoiceDate</th>\n",
       "      <th>InvoiceNo</th>\n",
       "      <th>CustomerID</th>\n",
       "      <th>Country</th>\n",
       "      <th>StockCode</th>\n",
       "      <th>Description</th>\n",
       "      <th>Quantity</th>\n",
       "      <th>UnitPrice</th>\n",
       "      <th>TotalPrice</th>\n",
       "      <th>Cancelled</th>\n",
       "    </tr>\n",
       "  </thead>\n",
       "  <tbody>\n",
       "    <tr>\n",
       "      <th>0</th>\n",
       "      <td>2010-12-01 08:45:00</td>\n",
       "      <td>536370</td>\n",
       "      <td>12583.0</td>\n",
       "      <td>France</td>\n",
       "      <td>22728</td>\n",
       "      <td>ALARM CLOCK BAKELIKE PINK</td>\n",
       "      <td>24</td>\n",
       "      <td>3.75</td>\n",
       "      <td>90.0</td>\n",
       "      <td>No</td>\n",
       "    </tr>\n",
       "  </tbody>\n",
       "</table>\n",
       "</div>"
      ],
      "text/plain": [
       "           InvoiceDate  InvoiceNo  CustomerID Country StockCode   \n",
       "0  2010-12-01 08:45:00     536370     12583.0  France     22728  \\\n",
       "\n",
       "                 Description  Quantity  UnitPrice  TotalPrice Cancelled  \n",
       "0  ALARM CLOCK BAKELIKE PINK        24       3.75        90.0        No  "
      ]
     },
     "execution_count": 26,
     "metadata": {},
     "output_type": "execute_result"
    }
   ],
   "source": [
    "df.head(1)"
   ]
  },
  {
   "attachments": {},
   "cell_type": "markdown",
   "metadata": {},
   "source": [
    "## `InvoiceDate`"
   ]
  },
  {
   "attachments": {},
   "cell_type": "markdown",
   "metadata": {},
   "source": [
    "Converting from object to datetime."
   ]
  },
  {
   "cell_type": "code",
   "execution_count": 30,
   "metadata": {},
   "outputs": [],
   "source": [
    "df['InvoiceDate'] = pd.to_datetime(df['InvoiceDate'])"
   ]
  },
  {
   "cell_type": "code",
   "execution_count": 34,
   "metadata": {},
   "outputs": [
    {
     "data": {
      "text/plain": [
       "0       2010-12-01 08:45:00\n",
       "1       2010-12-01 08:45:00\n",
       "2       2010-12-01 08:45:00\n",
       "3       2010-12-01 08:45:00\n",
       "4       2010-12-01 08:45:00\n",
       "                ...        \n",
       "45980   2011-12-09 12:50:00\n",
       "45981   2011-12-09 12:50:00\n",
       "45982   2011-12-09 12:50:00\n",
       "45983   2011-12-09 12:50:00\n",
       "45984   2011-12-09 12:50:00\n",
       "Name: InvoiceDate, Length: 44873, dtype: datetime64[ns]"
      ]
     },
     "execution_count": 34,
     "metadata": {},
     "output_type": "execute_result"
    }
   ],
   "source": [
    "df.InvoiceDate"
   ]
  },
  {
   "attachments": {},
   "cell_type": "markdown",
   "metadata": {},
   "source": [
    "#### Period"
   ]
  },
  {
   "cell_type": "code",
   "execution_count": 36,
   "metadata": {},
   "outputs": [
    {
     "name": "stdout",
     "output_type": "stream",
     "text": [
      "Start: 2010-12-01 08:45:00\n",
      "Finish 2011-12-09 12:50:00\n"
     ]
    }
   ],
   "source": [
    "print(\"Start:\", df['InvoiceDate'].min())\n",
    "print(\"Finish\", df['InvoiceDate'].max())\n"
   ]
  },
  {
   "attachments": {},
   "cell_type": "markdown",
   "metadata": {},
   "source": [
    "## `CustomerID`\n",
    "Keep in mind that there are some entries without CustomerID."
   ]
  },
  {
   "cell_type": "code",
   "execution_count": 36,
   "metadata": {},
   "outputs": [
    {
     "data": {
      "text/plain": [
       "CustomerID\n",
       "False    44951\n",
       "True      1480\n",
       "Name: count, dtype: int64"
      ]
     },
     "execution_count": 36,
     "metadata": {},
     "output_type": "execute_result"
    }
   ],
   "source": [
    "df.CustomerID.isna().value_counts()"
   ]
  },
  {
   "attachments": {},
   "cell_type": "markdown",
   "metadata": {},
   "source": [
    "And also cases where the price is zero."
   ]
  },
  {
   "cell_type": "code",
   "execution_count": 37,
   "metadata": {},
   "outputs": [
    {
     "data": {
      "text/html": [
       "<div>\n",
       "<style scoped>\n",
       "    .dataframe tbody tr th:only-of-type {\n",
       "        vertical-align: middle;\n",
       "    }\n",
       "\n",
       "    .dataframe tbody tr th {\n",
       "        vertical-align: top;\n",
       "    }\n",
       "\n",
       "    .dataframe thead th {\n",
       "        text-align: right;\n",
       "    }\n",
       "</style>\n",
       "<table border=\"1\" class=\"dataframe\">\n",
       "  <thead>\n",
       "    <tr style=\"text-align: right;\">\n",
       "      <th></th>\n",
       "      <th>InvoiceDate</th>\n",
       "      <th>InvoiceNo</th>\n",
       "      <th>CustomerID</th>\n",
       "      <th>Country</th>\n",
       "      <th>StockCode</th>\n",
       "      <th>Description</th>\n",
       "      <th>Quantity</th>\n",
       "      <th>UnitPrice</th>\n",
       "      <th>TotalPrice</th>\n",
       "      <th>Cancelled</th>\n",
       "    </tr>\n",
       "  </thead>\n",
       "  <tbody>\n",
       "    <tr>\n",
       "      <th>21579</th>\n",
       "      <td>2011-07-18 08:32:00</td>\n",
       "      <td>560283</td>\n",
       "      <td>NaN</td>\n",
       "      <td>EIRE</td>\n",
       "      <td>22624</td>\n",
       "      <td>IVORY KITCHEN SCALES</td>\n",
       "      <td>12</td>\n",
       "      <td>0.0</td>\n",
       "      <td>0.0</td>\n",
       "      <td>No</td>\n",
       "    </tr>\n",
       "    <tr>\n",
       "      <th>21580</th>\n",
       "      <td>2011-07-18 08:32:00</td>\n",
       "      <td>560283</td>\n",
       "      <td>NaN</td>\n",
       "      <td>EIRE</td>\n",
       "      <td>23196</td>\n",
       "      <td>VINTAGE LEAF MAGNETIC NOTEPAD</td>\n",
       "      <td>12</td>\n",
       "      <td>0.0</td>\n",
       "      <td>0.0</td>\n",
       "      <td>No</td>\n",
       "    </tr>\n",
       "  </tbody>\n",
       "</table>\n",
       "</div>"
      ],
      "text/plain": [
       "              InvoiceDate  InvoiceNo  CustomerID Country StockCode   \n",
       "21579 2011-07-18 08:32:00     560283         NaN    EIRE     22624  \\\n",
       "21580 2011-07-18 08:32:00     560283         NaN    EIRE     23196   \n",
       "\n",
       "                         Description  Quantity  UnitPrice  TotalPrice   \n",
       "21579           IVORY KITCHEN SCALES        12        0.0         0.0  \\\n",
       "21580  VINTAGE LEAF MAGNETIC NOTEPAD        12        0.0         0.0   \n",
       "\n",
       "      Cancelled  \n",
       "21579        No  \n",
       "21580        No  "
      ]
     },
     "execution_count": 37,
     "metadata": {},
     "output_type": "execute_result"
    }
   ],
   "source": [
    "df.loc[(df.CustomerID.isna()) & (df.UnitPrice == 0)]"
   ]
  },
  {
   "attachments": {},
   "cell_type": "markdown",
   "metadata": {},
   "source": [
    "### `Country`"
   ]
  },
  {
   "attachments": {},
   "cell_type": "markdown",
   "metadata": {},
   "source": [
    "Countries available."
   ]
  },
  {
   "cell_type": "code",
   "execution_count": 40,
   "metadata": {},
   "outputs": [
    {
     "data": {
      "text/plain": [
       "array(['France', 'Australia', 'Netherlands', 'Germany', 'Norway', 'EIRE',\n",
       "       'Switzerland', 'Spain', 'Poland', 'Portugal', 'Italy', 'Belgium',\n",
       "       'Lithuania', 'Japan', 'Iceland', 'Channel Islands', 'Denmark',\n",
       "       'Cyprus', 'Sweden', 'Austria', 'Israel', 'Finland', 'Bahrain',\n",
       "       'Greece', 'Hong Kong', 'Singapore', 'Lebanon',\n",
       "       'United Arab Emirates', 'Saudi Arabia', 'Czech Republic', 'Canada',\n",
       "       'Brazil', 'USA', 'European Community', 'Malta', 'RSA'],\n",
       "      dtype=object)"
      ]
     },
     "execution_count": 40,
     "metadata": {},
     "output_type": "execute_result"
    }
   ],
   "source": [
    "country_list = df.Country.unique()\n",
    "country_list"
   ]
  },
  {
   "attachments": {},
   "cell_type": "markdown",
   "metadata": {},
   "source": [
    "# Analysis"
   ]
  },
  {
   "attachments": {},
   "cell_type": "markdown",
   "metadata": {},
   "source": [
    "### Outlier Products Sold"
   ]
  },
  {
   "attachments": {},
   "cell_type": "markdown",
   "metadata": {},
   "source": [
    "### Outlier Clients"
   ]
  },
  {
   "attachments": {},
   "cell_type": "markdown",
   "metadata": {},
   "source": [
    "### Outlier Sales"
   ]
  },
  {
   "cell_type": "code",
   "execution_count": 52,
   "metadata": {},
   "outputs": [
    {
     "data": {
      "text/plain": [
       "CustomerID  Country    \n",
       "14646.0     Netherlands    $278,466.02\n",
       "14911.0     EIRE           $132,572.62\n",
       "12415.0     Australia      $123,638.18\n",
       "14156.0     EIRE           $113,384.14\n",
       "17404.0     Sweden          $30,205.82\n",
       "                              ...     \n",
       "12607.0     USA                  $0.00\n",
       "12505.0     Italy               $-4.50\n",
       "12605.0     Germany             $-7.50\n",
       "12666.0     Israel            $-227.44\n",
       "12503.0     Spain           $-1,126.00\n",
       "Name: TotalPrice, Length: 426, dtype: object"
      ]
     },
     "execution_count": 52,
     "metadata": {},
     "output_type": "execute_result"
    }
   ],
   "source": [
    "# Top Clients BY SALES\n",
    "top_clients = df.groupby(['CustomerID', 'Country'])['TotalPrice'].sum().sort_values(ascending=False).map('${:,.2f}'.format)\n",
    "top_clients"
   ]
  },
  {
   "cell_type": "code",
   "execution_count": 128,
   "metadata": {},
   "outputs": [
    {
     "data": {
      "text/html": [
       "<div>\n",
       "<style scoped>\n",
       "    .dataframe tbody tr th:only-of-type {\n",
       "        vertical-align: middle;\n",
       "    }\n",
       "\n",
       "    .dataframe tbody tr th {\n",
       "        vertical-align: top;\n",
       "    }\n",
       "\n",
       "    .dataframe thead th {\n",
       "        text-align: right;\n",
       "    }\n",
       "</style>\n",
       "<table border=\"1\" class=\"dataframe\">\n",
       "  <thead>\n",
       "    <tr style=\"text-align: right;\">\n",
       "      <th></th>\n",
       "      <th>StockCode</th>\n",
       "      <th>Description</th>\n",
       "      <th>Australia</th>\n",
       "      <th>Austria</th>\n",
       "      <th>Bahrain</th>\n",
       "      <th>Belgium</th>\n",
       "      <th>Brazil</th>\n",
       "      <th>Canada</th>\n",
       "      <th>Channel Islands</th>\n",
       "      <th>Cyprus</th>\n",
       "      <th>...</th>\n",
       "      <th>Portugal</th>\n",
       "      <th>RSA</th>\n",
       "      <th>Saudi Arabia</th>\n",
       "      <th>Singapore</th>\n",
       "      <th>Spain</th>\n",
       "      <th>Sweden</th>\n",
       "      <th>Switzerland</th>\n",
       "      <th>USA</th>\n",
       "      <th>United Arab Emirates</th>\n",
       "      <th>Total Quantity</th>\n",
       "    </tr>\n",
       "  </thead>\n",
       "  <tbody>\n",
       "    <tr>\n",
       "      <th>0</th>\n",
       "      <td>23084</td>\n",
       "      <td>RABBIT NIGHT LIGHT</td>\n",
       "      <td>1884.0</td>\n",
       "      <td>0.0</td>\n",
       "      <td>0.0</td>\n",
       "      <td>186.0</td>\n",
       "      <td>0.0</td>\n",
       "      <td>0.0</td>\n",
       "      <td>0.0</td>\n",
       "      <td>0.0</td>\n",
       "      <td>...</td>\n",
       "      <td>66.0</td>\n",
       "      <td>0.0</td>\n",
       "      <td>0.0</td>\n",
       "      <td>0.0</td>\n",
       "      <td>12.0</td>\n",
       "      <td>108.0</td>\n",
       "      <td>12.0</td>\n",
       "      <td>0.0</td>\n",
       "      <td>0.0</td>\n",
       "      <td>15465.0</td>\n",
       "    </tr>\n",
       "    <tr>\n",
       "      <th>1</th>\n",
       "      <td>22492</td>\n",
       "      <td>MINI PAINT SET VINTAGE</td>\n",
       "      <td>2916.0</td>\n",
       "      <td>36.0</td>\n",
       "      <td>0.0</td>\n",
       "      <td>288.0</td>\n",
       "      <td>0.0</td>\n",
       "      <td>0.0</td>\n",
       "      <td>36.0</td>\n",
       "      <td>0.0</td>\n",
       "      <td>...</td>\n",
       "      <td>108.0</td>\n",
       "      <td>0.0</td>\n",
       "      <td>0.0</td>\n",
       "      <td>0.0</td>\n",
       "      <td>36.0</td>\n",
       "      <td>2916.0</td>\n",
       "      <td>108.0</td>\n",
       "      <td>0.0</td>\n",
       "      <td>36.0</td>\n",
       "      <td>12517.0</td>\n",
       "    </tr>\n",
       "    <tr>\n",
       "      <th>2</th>\n",
       "      <td>21212</td>\n",
       "      <td>PACK OF 72 RETROSPOT CAKE CASES</td>\n",
       "      <td>360.0</td>\n",
       "      <td>24.0</td>\n",
       "      <td>0.0</td>\n",
       "      <td>480.0</td>\n",
       "      <td>0.0</td>\n",
       "      <td>0.0</td>\n",
       "      <td>120.0</td>\n",
       "      <td>0.0</td>\n",
       "      <td>...</td>\n",
       "      <td>170.0</td>\n",
       "      <td>0.0</td>\n",
       "      <td>0.0</td>\n",
       "      <td>24.0</td>\n",
       "      <td>264.0</td>\n",
       "      <td>984.0</td>\n",
       "      <td>432.0</td>\n",
       "      <td>0.0</td>\n",
       "      <td>0.0</td>\n",
       "      <td>11300.0</td>\n",
       "    </tr>\n",
       "    <tr>\n",
       "      <th>3</th>\n",
       "      <td>22629</td>\n",
       "      <td>SPACEBOY LUNCH BOX</td>\n",
       "      <td>960.0</td>\n",
       "      <td>24.0</td>\n",
       "      <td>0.0</td>\n",
       "      <td>339.0</td>\n",
       "      <td>12.0</td>\n",
       "      <td>0.0</td>\n",
       "      <td>12.0</td>\n",
       "      <td>0.0</td>\n",
       "      <td>...</td>\n",
       "      <td>0.0</td>\n",
       "      <td>0.0</td>\n",
       "      <td>0.0</td>\n",
       "      <td>0.0</td>\n",
       "      <td>106.0</td>\n",
       "      <td>0.0</td>\n",
       "      <td>108.0</td>\n",
       "      <td>0.0</td>\n",
       "      <td>12.0</td>\n",
       "      <td>8374.0</td>\n",
       "    </tr>\n",
       "    <tr>\n",
       "      <th>4</th>\n",
       "      <td>22630</td>\n",
       "      <td>DOLLY GIRL LUNCH BOX</td>\n",
       "      <td>1024.0</td>\n",
       "      <td>36.0</td>\n",
       "      <td>0.0</td>\n",
       "      <td>339.0</td>\n",
       "      <td>24.0</td>\n",
       "      <td>12.0</td>\n",
       "      <td>12.0</td>\n",
       "      <td>0.0</td>\n",
       "      <td>...</td>\n",
       "      <td>12.0</td>\n",
       "      <td>0.0</td>\n",
       "      <td>0.0</td>\n",
       "      <td>0.0</td>\n",
       "      <td>88.0</td>\n",
       "      <td>0.0</td>\n",
       "      <td>48.0</td>\n",
       "      <td>0.0</td>\n",
       "      <td>12.0</td>\n",
       "      <td>7161.0</td>\n",
       "    </tr>\n",
       "    <tr>\n",
       "      <th>...</th>\n",
       "      <td>...</td>\n",
       "      <td>...</td>\n",
       "      <td>...</td>\n",
       "      <td>...</td>\n",
       "      <td>...</td>\n",
       "      <td>...</td>\n",
       "      <td>...</td>\n",
       "      <td>...</td>\n",
       "      <td>...</td>\n",
       "      <td>...</td>\n",
       "      <td>...</td>\n",
       "      <td>...</td>\n",
       "      <td>...</td>\n",
       "      <td>...</td>\n",
       "      <td>...</td>\n",
       "      <td>...</td>\n",
       "      <td>...</td>\n",
       "      <td>...</td>\n",
       "      <td>...</td>\n",
       "      <td>...</td>\n",
       "      <td>...</td>\n",
       "    </tr>\n",
       "    <tr>\n",
       "      <th>2903</th>\n",
       "      <td>85232B</td>\n",
       "      <td>SET OF 3 BABUSHKA STACKING TINS</td>\n",
       "      <td>0.0</td>\n",
       "      <td>0.0</td>\n",
       "      <td>0.0</td>\n",
       "      <td>0.0</td>\n",
       "      <td>0.0</td>\n",
       "      <td>0.0</td>\n",
       "      <td>0.0</td>\n",
       "      <td>0.0</td>\n",
       "      <td>...</td>\n",
       "      <td>0.0</td>\n",
       "      <td>0.0</td>\n",
       "      <td>0.0</td>\n",
       "      <td>0.0</td>\n",
       "      <td>0.0</td>\n",
       "      <td>0.0</td>\n",
       "      <td>0.0</td>\n",
       "      <td>0.0</td>\n",
       "      <td>0.0</td>\n",
       "      <td>-6.0</td>\n",
       "    </tr>\n",
       "    <tr>\n",
       "      <th>2904</th>\n",
       "      <td>20980</td>\n",
       "      <td>36 PENCILS TUBE POSY</td>\n",
       "      <td>0.0</td>\n",
       "      <td>0.0</td>\n",
       "      <td>0.0</td>\n",
       "      <td>0.0</td>\n",
       "      <td>0.0</td>\n",
       "      <td>0.0</td>\n",
       "      <td>0.0</td>\n",
       "      <td>0.0</td>\n",
       "      <td>...</td>\n",
       "      <td>0.0</td>\n",
       "      <td>0.0</td>\n",
       "      <td>0.0</td>\n",
       "      <td>0.0</td>\n",
       "      <td>0.0</td>\n",
       "      <td>0.0</td>\n",
       "      <td>0.0</td>\n",
       "      <td>0.0</td>\n",
       "      <td>0.0</td>\n",
       "      <td>-9.0</td>\n",
       "    </tr>\n",
       "    <tr>\n",
       "      <th>2905</th>\n",
       "      <td>21144</td>\n",
       "      <td>PINK POODLE HANGING DECORATION</td>\n",
       "      <td>0.0</td>\n",
       "      <td>0.0</td>\n",
       "      <td>0.0</td>\n",
       "      <td>0.0</td>\n",
       "      <td>0.0</td>\n",
       "      <td>0.0</td>\n",
       "      <td>0.0</td>\n",
       "      <td>0.0</td>\n",
       "      <td>...</td>\n",
       "      <td>0.0</td>\n",
       "      <td>0.0</td>\n",
       "      <td>0.0</td>\n",
       "      <td>0.0</td>\n",
       "      <td>0.0</td>\n",
       "      <td>0.0</td>\n",
       "      <td>0.0</td>\n",
       "      <td>0.0</td>\n",
       "      <td>0.0</td>\n",
       "      <td>-12.0</td>\n",
       "    </tr>\n",
       "    <tr>\n",
       "      <th>2906</th>\n",
       "      <td>22034</td>\n",
       "      <td>ROBIN CHRISTMAS CARD</td>\n",
       "      <td>0.0</td>\n",
       "      <td>0.0</td>\n",
       "      <td>0.0</td>\n",
       "      <td>0.0</td>\n",
       "      <td>0.0</td>\n",
       "      <td>0.0</td>\n",
       "      <td>0.0</td>\n",
       "      <td>0.0</td>\n",
       "      <td>...</td>\n",
       "      <td>0.0</td>\n",
       "      <td>0.0</td>\n",
       "      <td>0.0</td>\n",
       "      <td>0.0</td>\n",
       "      <td>0.0</td>\n",
       "      <td>0.0</td>\n",
       "      <td>0.0</td>\n",
       "      <td>0.0</td>\n",
       "      <td>0.0</td>\n",
       "      <td>-12.0</td>\n",
       "    </tr>\n",
       "    <tr>\n",
       "      <th>2907</th>\n",
       "      <td>M</td>\n",
       "      <td>Manual</td>\n",
       "      <td>0.0</td>\n",
       "      <td>0.0</td>\n",
       "      <td>0.0</td>\n",
       "      <td>0.0</td>\n",
       "      <td>0.0</td>\n",
       "      <td>0.0</td>\n",
       "      <td>0.0</td>\n",
       "      <td>0.0</td>\n",
       "      <td>...</td>\n",
       "      <td>1.0</td>\n",
       "      <td>1.0</td>\n",
       "      <td>0.0</td>\n",
       "      <td>0.0</td>\n",
       "      <td>-3.0</td>\n",
       "      <td>1.0</td>\n",
       "      <td>0.0</td>\n",
       "      <td>0.0</td>\n",
       "      <td>0.0</td>\n",
       "      <td>-498.0</td>\n",
       "    </tr>\n",
       "  </tbody>\n",
       "</table>\n",
       "<p>2908 rows × 39 columns</p>\n",
       "</div>"
      ],
      "text/plain": [
       "     StockCode                      Description  Australia  Austria  Bahrain   \n",
       "0        23084               RABBIT NIGHT LIGHT     1884.0      0.0      0.0  \\\n",
       "1        22492           MINI PAINT SET VINTAGE     2916.0     36.0      0.0   \n",
       "2        21212  PACK OF 72 RETROSPOT CAKE CASES      360.0     24.0      0.0   \n",
       "3        22629               SPACEBOY LUNCH BOX      960.0     24.0      0.0   \n",
       "4        22630             DOLLY GIRL LUNCH BOX     1024.0     36.0      0.0   \n",
       "...        ...                              ...        ...      ...      ...   \n",
       "2903    85232B  SET OF 3 BABUSHKA STACKING TINS        0.0      0.0      0.0   \n",
       "2904     20980             36 PENCILS TUBE POSY        0.0      0.0      0.0   \n",
       "2905     21144   PINK POODLE HANGING DECORATION        0.0      0.0      0.0   \n",
       "2906     22034             ROBIN CHRISTMAS CARD        0.0      0.0      0.0   \n",
       "2907         M                           Manual        0.0      0.0      0.0   \n",
       "\n",
       "      Belgium  Brazil  Canada  Channel Islands  Cyprus  ...  Portugal  RSA   \n",
       "0       186.0     0.0     0.0              0.0     0.0  ...      66.0  0.0  \\\n",
       "1       288.0     0.0     0.0             36.0     0.0  ...     108.0  0.0   \n",
       "2       480.0     0.0     0.0            120.0     0.0  ...     170.0  0.0   \n",
       "3       339.0    12.0     0.0             12.0     0.0  ...       0.0  0.0   \n",
       "4       339.0    24.0    12.0             12.0     0.0  ...      12.0  0.0   \n",
       "...       ...     ...     ...              ...     ...  ...       ...  ...   \n",
       "2903      0.0     0.0     0.0              0.0     0.0  ...       0.0  0.0   \n",
       "2904      0.0     0.0     0.0              0.0     0.0  ...       0.0  0.0   \n",
       "2905      0.0     0.0     0.0              0.0     0.0  ...       0.0  0.0   \n",
       "2906      0.0     0.0     0.0              0.0     0.0  ...       0.0  0.0   \n",
       "2907      0.0     0.0     0.0              0.0     0.0  ...       1.0  1.0   \n",
       "\n",
       "      Saudi Arabia  Singapore  Spain  Sweden  Switzerland  USA   \n",
       "0              0.0        0.0   12.0   108.0         12.0  0.0  \\\n",
       "1              0.0        0.0   36.0  2916.0        108.0  0.0   \n",
       "2              0.0       24.0  264.0   984.0        432.0  0.0   \n",
       "3              0.0        0.0  106.0     0.0        108.0  0.0   \n",
       "4              0.0        0.0   88.0     0.0         48.0  0.0   \n",
       "...            ...        ...    ...     ...          ...  ...   \n",
       "2903           0.0        0.0    0.0     0.0          0.0  0.0   \n",
       "2904           0.0        0.0    0.0     0.0          0.0  0.0   \n",
       "2905           0.0        0.0    0.0     0.0          0.0  0.0   \n",
       "2906           0.0        0.0    0.0     0.0          0.0  0.0   \n",
       "2907           0.0        0.0   -3.0     1.0          0.0  0.0   \n",
       "\n",
       "      United Arab Emirates  Total Quantity  \n",
       "0                      0.0         15465.0  \n",
       "1                     36.0         12517.0  \n",
       "2                      0.0         11300.0  \n",
       "3                     12.0          8374.0  \n",
       "4                     12.0          7161.0  \n",
       "...                    ...             ...  \n",
       "2903                   0.0            -6.0  \n",
       "2904                   0.0            -9.0  \n",
       "2905                   0.0           -12.0  \n",
       "2906                   0.0           -12.0  \n",
       "2907                   0.0          -498.0  \n",
       "\n",
       "[2908 rows x 39 columns]"
      ]
     },
     "execution_count": 128,
     "metadata": {},
     "output_type": "execute_result"
    }
   ],
   "source": [
    "# Select relevant columns\n",
    "df_subset = df[['StockCode', 'Description', 'Quantity', 'Country']]\n",
    "\n",
    "# Group by product and country, and sum the quantities\n",
    "df_grouped = df_subset.groupby(['StockCode', 'Description', 'Country']).sum().reset_index()\n",
    "\n",
    "# Pivot the table to have one column for each country\n",
    "df_pivot = df_grouped.pivot(index=['StockCode', 'Description'], columns='Country', values='Quantity').fillna(0)\n",
    "\n",
    "# Add a column for the total quantity sold\n",
    "df_pivot['Total Quantity'] = df_pivot.sum(axis=1)\n",
    "\n",
    "# Sort by total quantity sold in descending order\n",
    "df_pivot = df_pivot.sort_values(by='Total Quantity', ascending=False)\n",
    "\n",
    "# Reset the index and rename the columns\n",
    "df_pivot = df_pivot.reset_index().rename_axis(None, axis=1)\n",
    "\n",
    "\n",
    "df_pivot"
   ]
  },
  {
   "attachments": {},
   "cell_type": "markdown",
   "metadata": {},
   "source": [
    "## Marketing Successful Products to Other Countries\n",
    "- The fact that it's selling well is proof that there is something about it that people want.\n",
    "- So find countries where it's not selling well, and determine if it's worth increasing marketing there."
   ]
  },
  {
   "cell_type": "code",
   "execution_count": 111,
   "metadata": {},
   "outputs": [
    {
     "data": {
      "image/png": "[encoded data removed]",
      "text/plain": [
       "<Figure size 1200x600 with 1 Axes>"
      ]
     },
     "metadata": {},
     "output_type": "display_data"
    },
    {
     "data": {
      "image/png": "[encoded data removed]",
      "text/plain": [
       "<Figure size 1200x600 with 1 Axes>"
      ]
     },
     "metadata": {},
     "output_type": "display_data"
    }
   ],
   "source": [
    "for i, row in df_pivot.head(2).iterrows():\n",
    "    # Get the description for the current row\n",
    "    description = row['Description']\n",
    "    \n",
    "    # Create a list of the countries in descending order by their total quantity\n",
    "    country_order = row.iloc[2:-1].sort_values(ascending=False).index\n",
    "    \n",
    "    # Create a new dataframe with just the total quantities for each country\n",
    "    country_totals = row.iloc[2:-1].loc[country_order]\n",
    "    \n",
    "    # Omit countries with 0 values\n",
    "    country_totals = country_totals[country_totals != 0]\n",
    "    \n",
    "    # Create the histogram\n",
    "    plt.figure(figsize=(12, 6))\n",
    "    sns.barplot(x=country_totals.values, y=country_totals.index)\n",
    "    plt.title(description)\n",
    "    plt.xlabel('Total Quantity')\n",
    "    plt.ylabel('Country')\n",
    "    plt.show()\n"
   ]
  },
  {
   "cell_type": "code",
   "execution_count": 114,
   "metadata": {},
   "outputs": [
    {
     "data": {
      "text/plain": [
       "0                    RABBIT NIGHT LIGHT\n",
       "1                MINI PAINT SET VINTAGE\n",
       "2       PACK OF 72 RETROSPOT CAKE CASES\n",
       "3                    SPACEBOY LUNCH BOX\n",
       "4                  DOLLY GIRL LUNCH BOX\n",
       "5    ROUND SNACK BOXES SET OF4 WOODLAND\n",
       "6         RED TOADSTOOL LED NIGHT LIGHT\n",
       "7     WORLD WAR 2 GLIDERS ASSTD DESIGNS\n",
       "8      PLASTERS IN TIN WOODLAND ANIMALS\n",
       "9              PLASTERS IN TIN SPACEBOY\n",
       "Name: Description, dtype: object"
      ]
     },
     "execution_count": 114,
     "metadata": {},
     "output_type": "execute_result"
    }
   ],
   "source": [
    "top_product_list = df_pivot['Description'].head(10)\n",
    "top_product_list"
   ]
  },
  {
   "attachments": {},
   "cell_type": "markdown",
   "metadata": {},
   "source": [
    "# Who is buying this shit?"
   ]
  },
  {
   "attachments": {},
   "cell_type": "markdown",
   "metadata": {},
   "source": [
    "# Why the hell are the Dutch buying this shit?"
   ]
  },
  {
   "cell_type": "code",
   "execution_count": 135,
   "metadata": {},
   "outputs": [
    {
     "data": {
      "text/plain": [
       "CustomerID\n",
       "12347.0    $4,310.00\n",
       "12348.0    $1,437.00\n",
       "12349.0    $1,458.00\n",
       "12350.0      $294.00\n",
       "12352.0    $1,265.00\n",
       "             ...    \n",
       "17444.0    $2,389.00\n",
       "17508.0      $387.00\n",
       "17828.0    $1,075.00\n",
       "17829.0      $889.00\n",
       "17844.0       $52.00\n",
       "Name: TotalPrice, Length: 418, dtype: object"
      ]
     },
     "execution_count": 135,
     "metadata": {},
     "output_type": "execute_result"
    }
   ],
   "source": [
    "df.groupby(['CustomerID'])['TotalPrice'].sum().apply(lambda x: '${:,.2f}'.format(round(x)))"
   ]
  },
  {
   "cell_type": "code",
   "execution_count": null,
   "metadata": {},
   "outputs": [],
   "source": [
    "for product in top_product_list:\n",
    "    print(product)\n",
    "    print(df.loc[df['Description'] == product].groupby(['Country', 'CustomerID'])['Quantity'].sum())"
   ]
  },
  {
   "cell_type": "code",
   "execution_count": 137,
   "metadata": {},
   "outputs": [
    {
     "data": {
      "text/plain": [
       "278466.02"
      ]
     },
     "execution_count": 137,
     "metadata": {},
     "output_type": "execute_result"
    }
   ],
   "source": [
    "df.loc[df['CustomerID'] == 14646].TotalPrice.sum()"
   ]
  },
  {
   "cell_type": "code",
   "execution_count": 131,
   "metadata": {},
   "outputs": [
    {
     "data": {
      "text/plain": [
       "CustomerID\n",
       "14646.0    4801\n",
       "12798.0    3288\n",
       "12415.0    1536\n",
       "12678.0    1320\n",
       "12682.0     858\n",
       "           ... \n",
       "12654.0       6\n",
       "12452.0       6\n",
       "12463.0       6\n",
       "12613.0       6\n",
       "12531.0       2\n",
       "Name: Quantity, Length: 72, dtype: int64"
      ]
     },
     "execution_count": 131,
     "metadata": {},
     "output_type": "execute_result"
    }
   ],
   "source": [
    "df.loc[df['Description'] == 'RABBIT NIGHT LIGHT'].groupby('CustomerID')['Quantity'].sum().sort_values(ascending=False)"
   ]
  },
  {
   "cell_type": "code",
   "execution_count": 127,
   "metadata": {},
   "outputs": [
    {
     "name": "stdout",
     "output_type": "stream",
     "text": [
      "RABBIT NIGHT LIGHT\n",
      "Country      CustomerID\n",
      "Australia    12415.0       1536\n",
      "             12431.0        348\n",
      "Belgium      12380.0         48\n",
      "             12395.0         12\n",
      "             12399.0         12\n",
      "                           ... \n",
      "Spain        12597.0         12\n",
      "Sweden       12483.0         96\n",
      "             12638.0         12\n",
      "Switzerland  12384.0          6\n",
      "             12452.0          6\n",
      "Name: Quantity, Length: 72, dtype: int64\n"
     ]
    }
   ],
   "source": [
    "print(top_product_list[0])\n",
    "print(df.loc[df['Description'] == top_product_list[0]].groupby(['Country', 'CustomerID'])['Quantity'].sum())"
   ]
  },
  {
   "cell_type": "code",
   "execution_count": 90,
   "metadata": {},
   "outputs": [
    {
     "data": {
      "text/html": [
       "<div>\n",
       "<style scoped>\n",
       "    .dataframe tbody tr th:only-of-type {\n",
       "        vertical-align: middle;\n",
       "    }\n",
       "\n",
       "    .dataframe tbody tr th {\n",
       "        vertical-align: top;\n",
       "    }\n",
       "\n",
       "    .dataframe thead th {\n",
       "        text-align: right;\n",
       "    }\n",
       "</style>\n",
       "<table border=\"1\" class=\"dataframe\">\n",
       "  <thead>\n",
       "    <tr style=\"text-align: right;\">\n",
       "      <th></th>\n",
       "      <th>InvoiceNo</th>\n",
       "      <th>StockCode</th>\n",
       "      <th>Description</th>\n",
       "      <th>Quantity</th>\n",
       "      <th>InvoiceDate</th>\n",
       "      <th>UnitPrice</th>\n",
       "      <th>CustomerID</th>\n",
       "      <th>Country</th>\n",
       "      <th>TotalPrice</th>\n",
       "      <th>Cancelled</th>\n",
       "      <th>InvoiceDateOnly</th>\n",
       "    </tr>\n",
       "  </thead>\n",
       "  <tbody>\n",
       "    <tr>\n",
       "      <th>37979</th>\n",
       "      <td>573003</td>\n",
       "      <td>23084</td>\n",
       "      <td>RABBIT NIGHT LIGHT</td>\n",
       "      <td>2400</td>\n",
       "      <td>2011-10-27 12:11:00</td>\n",
       "      <td>2.08</td>\n",
       "      <td>14646.0</td>\n",
       "      <td>Netherlands</td>\n",
       "      <td>4992.00</td>\n",
       "      <td>No</td>\n",
       "      <td>2011-10-27</td>\n",
       "    </tr>\n",
       "    <tr>\n",
       "      <th>45939</th>\n",
       "      <td>581175</td>\n",
       "      <td>23084</td>\n",
       "      <td>RABBIT NIGHT LIGHT</td>\n",
       "      <td>1440</td>\n",
       "      <td>2011-12-07 15:16:00</td>\n",
       "      <td>1.79</td>\n",
       "      <td>14646.0</td>\n",
       "      <td>Netherlands</td>\n",
       "      <td>2577.60</td>\n",
       "      <td>No</td>\n",
       "      <td>2011-12-07</td>\n",
       "    </tr>\n",
       "    <tr>\n",
       "      <th>27391</th>\n",
       "      <td>564652</td>\n",
       "      <td>23084</td>\n",
       "      <td>RABBIT NIGHT LIGHT</td>\n",
       "      <td>480</td>\n",
       "      <td>2011-08-26 14:20:00</td>\n",
       "      <td>2.08</td>\n",
       "      <td>14646.0</td>\n",
       "      <td>Netherlands</td>\n",
       "      <td>998.40</td>\n",
       "      <td>No</td>\n",
       "      <td>2011-08-26</td>\n",
       "    </tr>\n",
       "    <tr>\n",
       "      <th>16110</th>\n",
       "      <td>554827</td>\n",
       "      <td>23084</td>\n",
       "      <td>RABBIT NIGHT LIGHT</td>\n",
       "      <td>240</td>\n",
       "      <td>2011-05-26 15:19:00</td>\n",
       "      <td>2.08</td>\n",
       "      <td>14646.0</td>\n",
       "      <td>Netherlands</td>\n",
       "      <td>499.20</td>\n",
       "      <td>No</td>\n",
       "      <td>2011-05-26</td>\n",
       "    </tr>\n",
       "    <tr>\n",
       "      <th>39007</th>\n",
       "      <td>574058</td>\n",
       "      <td>23084</td>\n",
       "      <td>RABBIT NIGHT LIGHT</td>\n",
       "      <td>216</td>\n",
       "      <td>2011-11-02 14:10:00</td>\n",
       "      <td>2.08</td>\n",
       "      <td>14646.0</td>\n",
       "      <td>Netherlands</td>\n",
       "      <td>449.28</td>\n",
       "      <td>No</td>\n",
       "      <td>2011-11-02</td>\n",
       "    </tr>\n",
       "    <tr>\n",
       "      <th>14166</th>\n",
       "      <td>552882</td>\n",
       "      <td>23084</td>\n",
       "      <td>RABBIT NIGHT LIGHT</td>\n",
       "      <td>24</td>\n",
       "      <td>2011-05-12 10:10:00</td>\n",
       "      <td>2.08</td>\n",
       "      <td>14646.0</td>\n",
       "      <td>Netherlands</td>\n",
       "      <td>49.92</td>\n",
       "      <td>No</td>\n",
       "      <td>2011-05-12</td>\n",
       "    </tr>\n",
       "    <tr>\n",
       "      <th>18877</th>\n",
       "      <td>557328</td>\n",
       "      <td>23084</td>\n",
       "      <td>RABBIT NIGHT LIGHT</td>\n",
       "      <td>1</td>\n",
       "      <td>2011-06-20 09:53:00</td>\n",
       "      <td>2.08</td>\n",
       "      <td>14646.0</td>\n",
       "      <td>Netherlands</td>\n",
       "      <td>2.08</td>\n",
       "      <td>No</td>\n",
       "      <td>2011-06-20</td>\n",
       "    </tr>\n",
       "  </tbody>\n",
       "</table>\n",
       "</div>"
      ],
      "text/plain": [
       "       InvoiceNo StockCode         Description  Quantity         InvoiceDate   \n",
       "37979     573003     23084  RABBIT NIGHT LIGHT      2400 2011-10-27 12:11:00  \\\n",
       "45939     581175     23084  RABBIT NIGHT LIGHT      1440 2011-12-07 15:16:00   \n",
       "27391     564652     23084  RABBIT NIGHT LIGHT       480 2011-08-26 14:20:00   \n",
       "16110     554827     23084  RABBIT NIGHT LIGHT       240 2011-05-26 15:19:00   \n",
       "39007     574058     23084  RABBIT NIGHT LIGHT       216 2011-11-02 14:10:00   \n",
       "14166     552882     23084  RABBIT NIGHT LIGHT        24 2011-05-12 10:10:00   \n",
       "18877     557328     23084  RABBIT NIGHT LIGHT         1 2011-06-20 09:53:00   \n",
       "\n",
       "       UnitPrice  CustomerID      Country  TotalPrice Cancelled   \n",
       "37979       2.08     14646.0  Netherlands     4992.00        No  \\\n",
       "45939       1.79     14646.0  Netherlands     2577.60        No   \n",
       "27391       2.08     14646.0  Netherlands      998.40        No   \n",
       "16110       2.08     14646.0  Netherlands      499.20        No   \n",
       "39007       2.08     14646.0  Netherlands      449.28        No   \n",
       "14166       2.08     14646.0  Netherlands       49.92        No   \n",
       "18877       2.08     14646.0  Netherlands        2.08        No   \n",
       "\n",
       "      InvoiceDateOnly  \n",
       "37979      2011-10-27  \n",
       "45939      2011-12-07  \n",
       "27391      2011-08-26  \n",
       "16110      2011-05-26  \n",
       "39007      2011-11-02  \n",
       "14166      2011-05-12  \n",
       "18877      2011-06-20  "
      ]
     },
     "execution_count": 90,
     "metadata": {},
     "output_type": "execute_result"
    }
   ],
   "source": [
    "# ONE FUCKING GUY\n",
    "df.loc[(df['Description'] == 'RABBIT NIGHT LIGHT') &\n",
    "        (df['Country'] == 'Netherlands')].sort_values(by=['Quantity'], ascending=False)"
   ]
  },
  {
   "cell_type": "code",
   "execution_count": 91,
   "metadata": {},
   "outputs": [
    {
     "data": {
      "text/html": [
       "<div>\n",
       "<style scoped>\n",
       "    .dataframe tbody tr th:only-of-type {\n",
       "        vertical-align: middle;\n",
       "    }\n",
       "\n",
       "    .dataframe tbody tr th {\n",
       "        vertical-align: top;\n",
       "    }\n",
       "\n",
       "    .dataframe thead th {\n",
       "        text-align: right;\n",
       "    }\n",
       "</style>\n",
       "<table border=\"1\" class=\"dataframe\">\n",
       "  <thead>\n",
       "    <tr style=\"text-align: right;\">\n",
       "      <th></th>\n",
       "      <th>InvoiceNo</th>\n",
       "      <th>StockCode</th>\n",
       "      <th>Description</th>\n",
       "      <th>Quantity</th>\n",
       "      <th>InvoiceDate</th>\n",
       "      <th>UnitPrice</th>\n",
       "      <th>CustomerID</th>\n",
       "      <th>Country</th>\n",
       "      <th>TotalPrice</th>\n",
       "      <th>Cancelled</th>\n",
       "      <th>InvoiceDateOnly</th>\n",
       "    </tr>\n",
       "  </thead>\n",
       "  <tbody>\n",
       "    <tr>\n",
       "      <th>36997</th>\n",
       "      <td>572035</td>\n",
       "      <td>22492</td>\n",
       "      <td>MINI PAINT SET VINTAGE</td>\n",
       "      <td>576</td>\n",
       "      <td>2011-10-20 12:03:00</td>\n",
       "      <td>0.55</td>\n",
       "      <td>14646.0</td>\n",
       "      <td>Netherlands</td>\n",
       "      <td>316.8</td>\n",
       "      <td>No</td>\n",
       "      <td>2011-10-20</td>\n",
       "    </tr>\n",
       "    <tr>\n",
       "      <th>40188</th>\n",
       "      <td>575508</td>\n",
       "      <td>22492</td>\n",
       "      <td>MINI PAINT SET VINTAGE</td>\n",
       "      <td>576</td>\n",
       "      <td>2011-11-10 10:32:00</td>\n",
       "      <td>0.55</td>\n",
       "      <td>14646.0</td>\n",
       "      <td>Netherlands</td>\n",
       "      <td>316.8</td>\n",
       "      <td>No</td>\n",
       "      <td>2011-11-10</td>\n",
       "    </tr>\n",
       "    <tr>\n",
       "      <th>40233</th>\n",
       "      <td>575510</td>\n",
       "      <td>22492</td>\n",
       "      <td>MINI PAINT SET VINTAGE</td>\n",
       "      <td>576</td>\n",
       "      <td>2011-11-10 10:33:00</td>\n",
       "      <td>0.55</td>\n",
       "      <td>14646.0</td>\n",
       "      <td>Netherlands</td>\n",
       "      <td>316.8</td>\n",
       "      <td>No</td>\n",
       "      <td>2011-11-10</td>\n",
       "    </tr>\n",
       "    <tr>\n",
       "      <th>8816</th>\n",
       "      <td>546027</td>\n",
       "      <td>22492</td>\n",
       "      <td>MINI PAINT SET VINTAGE</td>\n",
       "      <td>36</td>\n",
       "      <td>2011-03-09 08:09:00</td>\n",
       "      <td>0.65</td>\n",
       "      <td>12759.0</td>\n",
       "      <td>Netherlands</td>\n",
       "      <td>23.4</td>\n",
       "      <td>No</td>\n",
       "      <td>2011-03-09</td>\n",
       "    </tr>\n",
       "  </tbody>\n",
       "</table>\n",
       "</div>"
      ],
      "text/plain": [
       "       InvoiceNo StockCode             Description  Quantity   \n",
       "36997     572035     22492  MINI PAINT SET VINTAGE       576  \\\n",
       "40188     575508     22492  MINI PAINT SET VINTAGE       576   \n",
       "40233     575510     22492  MINI PAINT SET VINTAGE       576   \n",
       "8816      546027     22492  MINI PAINT SET VINTAGE        36   \n",
       "\n",
       "              InvoiceDate  UnitPrice  CustomerID      Country  TotalPrice   \n",
       "36997 2011-10-20 12:03:00       0.55     14646.0  Netherlands       316.8  \\\n",
       "40188 2011-11-10 10:32:00       0.55     14646.0  Netherlands       316.8   \n",
       "40233 2011-11-10 10:33:00       0.55     14646.0  Netherlands       316.8   \n",
       "8816  2011-03-09 08:09:00       0.65     12759.0  Netherlands        23.4   \n",
       "\n",
       "      Cancelled InvoiceDateOnly  \n",
       "36997        No      2011-10-20  \n",
       "40188        No      2011-11-10  \n",
       "40233        No      2011-11-10  \n",
       "8816         No      2011-03-09  "
      ]
     },
     "execution_count": 91,
     "metadata": {},
     "output_type": "execute_result"
    }
   ],
   "source": [
    "df.loc[(df['Description'] == 'MINI PAINT SET VINTAGE') &\n",
    "        (df['Country'] == 'Netherlands')].sort_values(by=['Quantity'], ascending=False)"
   ]
  },
  {
   "cell_type": "code",
   "execution_count": 105,
   "metadata": {},
   "outputs": [
    {
     "data": {
      "text/plain": [
       "1"
      ]
     },
     "execution_count": 105,
     "metadata": {},
     "output_type": "execute_result"
    }
   ],
   "source": [
    "# CUSTOMER BASE\n",
    "df.loc[(df['Description'] == 'RABBIT NIGHT LIGHT') &\n",
    "        (df['Country'] == 'Netherlands')].groupby('CustomerID')['Quantity'].sum().nunique()"
   ]
  },
  {
   "cell_type": "code",
   "execution_count": 106,
   "metadata": {},
   "outputs": [
    {
     "data": {
      "text/plain": [
       "2"
      ]
     },
     "execution_count": 106,
     "metadata": {},
     "output_type": "execute_result"
    }
   ],
   "source": [
    "# CUSTOMER BASE\n",
    "df.loc[(df['Description'] == 'PACK OF 72 RETROSPOT CAKE CASES') &\n",
    "        (df['Country'] == 'Netherlands')].groupby('CustomerID')['Quantity'].sum().nunique()"
   ]
  },
  {
   "cell_type": "code",
   "execution_count": 107,
   "metadata": {},
   "outputs": [
    {
     "data": {
      "text/plain": [
       "CustomerID\n",
       "12778.0      24\n",
       "14646.0    4104\n",
       "Name: Quantity, dtype: int64"
      ]
     },
     "execution_count": 107,
     "metadata": {},
     "output_type": "execute_result"
    }
   ],
   "source": [
    "# CUSTOMER BASE\n",
    "df.loc[(df['Description'] == 'PACK OF 72 RETROSPOT CAKE CASES') &\n",
    "        (df['Country'] == 'Netherlands')].groupby('CustomerID')['Quantity'].sum()"
   ]
  },
  {
   "cell_type": "code",
   "execution_count": 109,
   "metadata": {},
   "outputs": [
    {
     "data": {
      "text/plain": [
       "CustomerID\n",
       "12759.0      36\n",
       "14646.0    1728\n",
       "Name: Quantity, dtype: int64"
      ]
     },
     "execution_count": 109,
     "metadata": {},
     "output_type": "execute_result"
    }
   ],
   "source": [
    "# CUSTOMER BASE\n",
    "df.loc[(df['Description'] == 'MINI PAINT SET VINTAGE') &\n",
    "        (df['Country'] == 'Netherlands')].groupby('CustomerID')['Quantity'].sum()"
   ]
  },
  {
   "cell_type": "code",
   "execution_count": null,
   "metadata": {},
   "outputs": [],
   "source": [
    "# CUSTOMER BASE\n",
    "df.loc[(df['Description'] == 'RABBIT NIGHT LIGHT') &\n",
    "        (df['Country'] == 'Netherlands')].groupby('CustomerID')['Quantity'].sum()"
   ]
  },
  {
   "attachments": {},
   "cell_type": "markdown",
   "metadata": {},
   "source": [
    "## How many cancellations?"
   ]
  },
  {
   "attachments": {},
   "cell_type": "markdown",
   "metadata": {},
   "source": [
    "# Notes\n",
    "- Most of the orders are on fewer invoices.\n",
    "- Negative quantity.\n",
    "- Zero prices.\n",
    "- Seasonality of dates."
   ]
  },
  {
   "attachments": {},
   "cell_type": "markdown",
   "metadata": {},
   "source": [
    "# Tasks\n",
    "- Many of the orders were cancelled.\n",
    "- Negative values, meaning returns.\n",
    "- Stored in negative_qty\n",
    "- Look at outliers.\n",
    "- Seems to be seasonality in the dates.\n",
    "- Some have unit price of zero."
   ]
  },
  {
   "attachments": {},
   "cell_type": "markdown",
   "metadata": {},
   "source": [
    "### "
   ]
  },
  {
   "attachments": {},
   "cell_type": "markdown",
   "metadata": {},
   "source": [
    "##"
   ]
  }
 ],
 "metadata": {
  "kernelspec": {
   "display_name": "Python 3",
   "language": "python",
   "name": "python3"
  },
  "language_info": {
   "codemirror_mode": {
    "name": "ipython",
    "version": 3
   },
   "file_extension": ".py",
   "mimetype": "text/x-python",
   "name": "python",
   "nbconvert_exporter": "python",
   "pygments_lexer": "ipython3",
   "version": "3.11.3"
  },
  "orig_nbformat": 4
 },
 "nbformat": 4,
 "nbformat_minor": 2
}
